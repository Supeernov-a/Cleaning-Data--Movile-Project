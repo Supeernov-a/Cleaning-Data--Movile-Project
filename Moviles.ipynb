{
  "cells": [
    {
      "cell_type": "markdown",
      "source": [
        "**Moviles Project**"
      ],
      "metadata": {
        "id": "0MVful4wbLBz"
      }
    },
    {
      "cell_type": "markdown",
      "source": [
        "**Content**\n",
        "1.   Information about data\n",
        "2.   Data Preprocesing\n",
        "     *   Include Libraries\n",
        "     *   Import Data\n",
        "     *   Explore Data\n",
        "     *   Missing Values\n",
        "3.   Data Procesing\n",
        "4.   Data Visualization\n",
        "     *   Bar Plot\n",
        "     *   Count Plot\n",
        "5.  Results and conclusion\n",
        "6.  References"
      ],
      "metadata": {
        "id": "ntDaV7KLbI5T"
      }
    },
    {
      "cell_type": "markdown",
      "source": [
        "# 1. Information about data"
      ],
      "metadata": {
        "id": "hqelRB3SbKSc"
      }
    },
    {
      "cell_type": "markdown",
      "source": [
        "The \"mobiles\" dataset is a comprehensive collection of information about various mobile phones. It includes details on a range of features such as the names of the phones, links to their images, ratings, reviews, prices, memory, camera, display, battery, processor, and warranty information."
      ],
      "metadata": {
        "id": "xXX0y9mVbRr4"
      }
    },
    {
      "cell_type": "markdown",
      "source": [
        "# 2.  Data Preprocesing"
      ],
      "metadata": {
        "id": "l2W3HcL0bVDp"
      }
    },
    {
      "cell_type": "code",
      "source": [
        "import numpy as np # linear algebra\n",
        "import pandas as pd # data processing, CSV file I/O (e.g. pd.read_csv)\n",
        "import matplotlib.pyplot as plt # for data visualization\n",
        "import seaborn as sns # Seaborn is a library for making statistical graphics in Python.\n",
        "%matplotlib inline"
      ],
      "metadata": {
        "id": "QikStrgwbZS3"
      },
      "execution_count": null,
      "outputs": []
    },
    {
      "cell_type": "markdown",
      "source": [
        "## 2.2 Load Data"
      ],
      "metadata": {
        "id": "EWSvG0qIbbR3"
      }
    },
    {
      "cell_type": "code",
      "source": [
        "data =pd.read_csv(\"mobiles.csv\")\n"
      ],
      "metadata": {
        "id": "2AMYgzAxbdZB"
      },
      "execution_count": null,
      "outputs": []
    },
    {
      "cell_type": "markdown",
      "source": [
        "## 2.3 Exploring Data"
      ],
      "metadata": {
        "id": "TEwEWV0Abl9A"
      }
    },
    {
      "cell_type": "code",
      "source": [
        "#Shape of data\n",
        "data.shape"
      ],
      "metadata": {
        "colab": {
          "base_uri": "https://localhost:8080/"
        },
        "id": "ZuaErFo-bkJn",
        "outputId": "5fabd1b7-42fa-432d-8461-80c1d7f9fc59"
      },
      "execution_count": null,
      "outputs": [
        {
          "output_type": "execute_result",
          "data": {
            "text/plain": [
              "(1148, 12)"
            ]
          },
          "metadata": {},
          "execution_count": 6
        }
      ]
    },
    {
      "cell_type": "code",
      "source": [
        "#view the first 5  elements of data\n",
        "data.head()"
      ],
      "metadata": {
        "colab": {
          "base_uri": "https://localhost:8080/",
          "height": 739
        },
        "id": "7GKbHuG8b8b4",
        "outputId": "637fcaa8-c3f7-4ee6-c5a6-77f78afc5b8d"
      },
      "execution_count": null,
      "outputs": [
        {
          "output_type": "execute_result",
          "data": {
            "text/plain": [
              "   Unnamed: 0                                        names  \\\n",
              "0           0   SAMSUNG Galaxy F13 (Waterfall Blue, 64 GB)   \n",
              "1           1   SAMSUNG Galaxy F13 (Sunrise Copper, 64 GB)   \n",
              "2           2                                 itel it2163S   \n",
              "3           3  SAMSUNG Galaxy F13 (Nightsky Green, 128 GB)   \n",
              "4           4  SAMSUNG Galaxy F13 (Waterfall Blue, 128 GB)   \n",
              "\n",
              "                                        images_links  stars  \\\n",
              "0  https://rukminim1.flixcart.com/image/312/312/x...    4.4   \n",
              "1  https://rukminim1.flixcart.com/image/312/312/x...    4.4   \n",
              "2  https://rukminim1.flixcart.com/image/312/312/l...    4.1   \n",
              "3  https://rukminim1.flixcart.com/image/312/312/x...    4.4   \n",
              "4  https://rukminim1.flixcart.com/image/312/312/x...    4.4   \n",
              "\n",
              "                     rating&reviews            price_details  \\\n",
              "0  1,20,759 Ratings & 7,003 Reviews   ₹9,699\\n₹14,99935% off   \n",
              "1  1,20,759 Ratings & 7,003 Reviews   ₹9,699\\n₹14,99935% off   \n",
              "2          702 Ratings & 67 Reviews         ₹989\\n₹9991% off   \n",
              "3  1,20,759 Ratings & 7,003 Reviews  ₹10,699\\n₹16,99937% off   \n",
              "4  1,20,759 Ratings & 7,003 Reviews  ₹10,699\\n₹16,99937% off   \n",
              "\n",
              "                                         memory  \\\n",
              "0   4 GB RAM | 64 GB ROM | Expandable Upto 1 TB   \n",
              "1   4 GB RAM | 64 GB ROM | Expandable Upto 1 TB   \n",
              "2   4 MB RAM | 4 MB ROM | Expandable Upto 32 GB   \n",
              "3  4 GB RAM | 128 GB ROM | Expandable Upto 1 TB   \n",
              "4  4 GB RAM | 128 GB ROM | Expandable Upto 1 TB   \n",
              "\n",
              "                           camara_info  \\\n",
              "0  50MP + 5MP + 2MP | 8MP Front Camera   \n",
              "1  50MP + 5MP + 2MP | 8MP Front Camera   \n",
              "2         1200 mAh Lithium Ion Battery   \n",
              "3  50MP + 5MP + 2MP | 8MP Front Camera   \n",
              "4  50MP + 5MP + 2MP | 8MP Front Camera   \n",
              "\n",
              "                                   display  \\\n",
              "0     16.76 cm (6.6 inch) Full HD+ Display   \n",
              "1     16.76 cm (6.6 inch) Full HD+ Display   \n",
              "2  4.57 cm (1.8 inch) Quarter QVGA Display   \n",
              "3     16.76 cm (6.6 inch) Full HD+ Display   \n",
              "4     16.76 cm (6.6 inch) Full HD+ Display   \n",
              "\n",
              "                                             battery  \\\n",
              "0                       6000 mAh Lithium Ion Battery   \n",
              "1                       6000 mAh Lithium Ion Battery   \n",
              "2  7 Days Battery Backup with 1200mAh with Super ...   \n",
              "3                       6000 mAh Lithium Ion Battery   \n",
              "4                       6000 mAh Lithium Ion Battery   \n",
              "\n",
              "                         processor  \\\n",
              "0             Exynos 850 Processor   \n",
              "1             Exynos 850 Processor   \n",
              "2  9 Indian Input Language Support   \n",
              "3             Exynos 850 Processor   \n",
              "4             Exynos 850 Processor   \n",
              "\n",
              "                                            warranty  \n",
              "0  1 Year Warranty Provided By the Manufacturer f...  \n",
              "1  1 Year Warranty Provided By the Manufacturer f...  \n",
              "2                              BT Caller, Kingtalker  \n",
              "3  1 Year Warranty Provided By the Manufacturer f...  \n",
              "4  1 Year Warranty Provided By the Manufacturer f...  "
            ],
            "text/html": [
              "\n",
              "  <div id=\"df-8fb2b9bf-c2ef-48ab-a77c-62842f2fb0c0\">\n",
              "    <div class=\"colab-df-container\">\n",
              "      <div>\n",
              "<style scoped>\n",
              "    .dataframe tbody tr th:only-of-type {\n",
              "        vertical-align: middle;\n",
              "    }\n",
              "\n",
              "    .dataframe tbody tr th {\n",
              "        vertical-align: top;\n",
              "    }\n",
              "\n",
              "    .dataframe thead th {\n",
              "        text-align: right;\n",
              "    }\n",
              "</style>\n",
              "<table border=\"1\" class=\"dataframe\">\n",
              "  <thead>\n",
              "    <tr style=\"text-align: right;\">\n",
              "      <th></th>\n",
              "      <th>Unnamed: 0</th>\n",
              "      <th>names</th>\n",
              "      <th>images_links</th>\n",
              "      <th>stars</th>\n",
              "      <th>rating&amp;reviews</th>\n",
              "      <th>price_details</th>\n",
              "      <th>memory</th>\n",
              "      <th>camara_info</th>\n",
              "      <th>display</th>\n",
              "      <th>battery</th>\n",
              "      <th>processor</th>\n",
              "      <th>warranty</th>\n",
              "    </tr>\n",
              "  </thead>\n",
              "  <tbody>\n",
              "    <tr>\n",
              "      <th>0</th>\n",
              "      <td>0</td>\n",
              "      <td>SAMSUNG Galaxy F13 (Waterfall Blue, 64 GB)</td>\n",
              "      <td>https://rukminim1.flixcart.com/image/312/312/x...</td>\n",
              "      <td>4.4</td>\n",
              "      <td>1,20,759 Ratings &amp; 7,003 Reviews</td>\n",
              "      <td>₹9,699\\n₹14,99935% off</td>\n",
              "      <td>4 GB RAM | 64 GB ROM | Expandable Upto 1 TB</td>\n",
              "      <td>50MP + 5MP + 2MP | 8MP Front Camera</td>\n",
              "      <td>16.76 cm (6.6 inch) Full HD+ Display</td>\n",
              "      <td>6000 mAh Lithium Ion Battery</td>\n",
              "      <td>Exynos 850 Processor</td>\n",
              "      <td>1 Year Warranty Provided By the Manufacturer f...</td>\n",
              "    </tr>\n",
              "    <tr>\n",
              "      <th>1</th>\n",
              "      <td>1</td>\n",
              "      <td>SAMSUNG Galaxy F13 (Sunrise Copper, 64 GB)</td>\n",
              "      <td>https://rukminim1.flixcart.com/image/312/312/x...</td>\n",
              "      <td>4.4</td>\n",
              "      <td>1,20,759 Ratings &amp; 7,003 Reviews</td>\n",
              "      <td>₹9,699\\n₹14,99935% off</td>\n",
              "      <td>4 GB RAM | 64 GB ROM | Expandable Upto 1 TB</td>\n",
              "      <td>50MP + 5MP + 2MP | 8MP Front Camera</td>\n",
              "      <td>16.76 cm (6.6 inch) Full HD+ Display</td>\n",
              "      <td>6000 mAh Lithium Ion Battery</td>\n",
              "      <td>Exynos 850 Processor</td>\n",
              "      <td>1 Year Warranty Provided By the Manufacturer f...</td>\n",
              "    </tr>\n",
              "    <tr>\n",
              "      <th>2</th>\n",
              "      <td>2</td>\n",
              "      <td>itel it2163S</td>\n",
              "      <td>https://rukminim1.flixcart.com/image/312/312/l...</td>\n",
              "      <td>4.1</td>\n",
              "      <td>702 Ratings &amp; 67 Reviews</td>\n",
              "      <td>₹989\\n₹9991% off</td>\n",
              "      <td>4 MB RAM | 4 MB ROM | Expandable Upto 32 GB</td>\n",
              "      <td>1200 mAh Lithium Ion Battery</td>\n",
              "      <td>4.57 cm (1.8 inch) Quarter QVGA Display</td>\n",
              "      <td>7 Days Battery Backup with 1200mAh with Super ...</td>\n",
              "      <td>9 Indian Input Language Support</td>\n",
              "      <td>BT Caller, Kingtalker</td>\n",
              "    </tr>\n",
              "    <tr>\n",
              "      <th>3</th>\n",
              "      <td>3</td>\n",
              "      <td>SAMSUNG Galaxy F13 (Nightsky Green, 128 GB)</td>\n",
              "      <td>https://rukminim1.flixcart.com/image/312/312/x...</td>\n",
              "      <td>4.4</td>\n",
              "      <td>1,20,759 Ratings &amp; 7,003 Reviews</td>\n",
              "      <td>₹10,699\\n₹16,99937% off</td>\n",
              "      <td>4 GB RAM | 128 GB ROM | Expandable Upto 1 TB</td>\n",
              "      <td>50MP + 5MP + 2MP | 8MP Front Camera</td>\n",
              "      <td>16.76 cm (6.6 inch) Full HD+ Display</td>\n",
              "      <td>6000 mAh Lithium Ion Battery</td>\n",
              "      <td>Exynos 850 Processor</td>\n",
              "      <td>1 Year Warranty Provided By the Manufacturer f...</td>\n",
              "    </tr>\n",
              "    <tr>\n",
              "      <th>4</th>\n",
              "      <td>4</td>\n",
              "      <td>SAMSUNG Galaxy F13 (Waterfall Blue, 128 GB)</td>\n",
              "      <td>https://rukminim1.flixcart.com/image/312/312/x...</td>\n",
              "      <td>4.4</td>\n",
              "      <td>1,20,759 Ratings &amp; 7,003 Reviews</td>\n",
              "      <td>₹10,699\\n₹16,99937% off</td>\n",
              "      <td>4 GB RAM | 128 GB ROM | Expandable Upto 1 TB</td>\n",
              "      <td>50MP + 5MP + 2MP | 8MP Front Camera</td>\n",
              "      <td>16.76 cm (6.6 inch) Full HD+ Display</td>\n",
              "      <td>6000 mAh Lithium Ion Battery</td>\n",
              "      <td>Exynos 850 Processor</td>\n",
              "      <td>1 Year Warranty Provided By the Manufacturer f...</td>\n",
              "    </tr>\n",
              "  </tbody>\n",
              "</table>\n",
              "</div>\n",
              "      <button class=\"colab-df-convert\" onclick=\"convertToInteractive('df-8fb2b9bf-c2ef-48ab-a77c-62842f2fb0c0')\"\n",
              "              title=\"Convert this dataframe to an interactive table.\"\n",
              "              style=\"display:none;\">\n",
              "        \n",
              "  <svg xmlns=\"http://www.w3.org/2000/svg\" height=\"24px\"viewBox=\"0 0 24 24\"\n",
              "       width=\"24px\">\n",
              "    <path d=\"M0 0h24v24H0V0z\" fill=\"none\"/>\n",
              "    <path d=\"M18.56 5.44l.94 2.06.94-2.06 2.06-.94-2.06-.94-.94-2.06-.94 2.06-2.06.94zm-11 1L8.5 8.5l.94-2.06 2.06-.94-2.06-.94L8.5 2.5l-.94 2.06-2.06.94zm10 10l.94 2.06.94-2.06 2.06-.94-2.06-.94-.94-2.06-.94 2.06-2.06.94z\"/><path d=\"M17.41 7.96l-1.37-1.37c-.4-.4-.92-.59-1.43-.59-.52 0-1.04.2-1.43.59L10.3 9.45l-7.72 7.72c-.78.78-.78 2.05 0 2.83L4 21.41c.39.39.9.59 1.41.59.51 0 1.02-.2 1.41-.59l7.78-7.78 2.81-2.81c.8-.78.8-2.07 0-2.86zM5.41 20L4 18.59l7.72-7.72 1.47 1.35L5.41 20z\"/>\n",
              "  </svg>\n",
              "      </button>\n",
              "      \n",
              "  <style>\n",
              "    .colab-df-container {\n",
              "      display:flex;\n",
              "      flex-wrap:wrap;\n",
              "      gap: 12px;\n",
              "    }\n",
              "\n",
              "    .colab-df-convert {\n",
              "      background-color: #E8F0FE;\n",
              "      border: none;\n",
              "      border-radius: 50%;\n",
              "      cursor: pointer;\n",
              "      display: none;\n",
              "      fill: #1967D2;\n",
              "      height: 32px;\n",
              "      padding: 0 0 0 0;\n",
              "      width: 32px;\n",
              "    }\n",
              "\n",
              "    .colab-df-convert:hover {\n",
              "      background-color: #E2EBFA;\n",
              "      box-shadow: 0px 1px 2px rgba(60, 64, 67, 0.3), 0px 1px 3px 1px rgba(60, 64, 67, 0.15);\n",
              "      fill: #174EA6;\n",
              "    }\n",
              "\n",
              "    [theme=dark] .colab-df-convert {\n",
              "      background-color: #3B4455;\n",
              "      fill: #D2E3FC;\n",
              "    }\n",
              "\n",
              "    [theme=dark] .colab-df-convert:hover {\n",
              "      background-color: #434B5C;\n",
              "      box-shadow: 0px 1px 3px 1px rgba(0, 0, 0, 0.15);\n",
              "      filter: drop-shadow(0px 1px 2px rgba(0, 0, 0, 0.3));\n",
              "      fill: #FFFFFF;\n",
              "    }\n",
              "  </style>\n",
              "\n",
              "      <script>\n",
              "        const buttonEl =\n",
              "          document.querySelector('#df-8fb2b9bf-c2ef-48ab-a77c-62842f2fb0c0 button.colab-df-convert');\n",
              "        buttonEl.style.display =\n",
              "          google.colab.kernel.accessAllowed ? 'block' : 'none';\n",
              "\n",
              "        async function convertToInteractive(key) {\n",
              "          const element = document.querySelector('#df-8fb2b9bf-c2ef-48ab-a77c-62842f2fb0c0');\n",
              "          const dataTable =\n",
              "            await google.colab.kernel.invokeFunction('convertToInteractive',\n",
              "                                                     [key], {});\n",
              "          if (!dataTable) return;\n",
              "\n",
              "          const docLinkHtml = 'Like what you see? Visit the ' +\n",
              "            '<a target=\"_blank\" href=https://colab.research.google.com/notebooks/data_table.ipynb>data table notebook</a>'\n",
              "            + ' to learn more about interactive tables.';\n",
              "          element.innerHTML = '';\n",
              "          dataTable['output_type'] = 'display_data';\n",
              "          await google.colab.output.renderOutput(dataTable, element);\n",
              "          const docLink = document.createElement('div');\n",
              "          docLink.innerHTML = docLinkHtml;\n",
              "          element.appendChild(docLink);\n",
              "        }\n",
              "      </script>\n",
              "    </div>\n",
              "  </div>\n",
              "  "
            ]
          },
          "metadata": {},
          "execution_count": 7
        }
      ]
    },
    {
      "cell_type": "code",
      "source": [
        "#Info data\n",
        "data.info()"
      ],
      "metadata": {
        "id": "5xiOctRgb-qR"
      },
      "execution_count": null,
      "outputs": []
    },
    {
      "cell_type": "markdown",
      "source": [
        "## 2.4 Missing Values"
      ],
      "metadata": {
        "id": "ODbyIYkRcAXb"
      }
    },
    {
      "cell_type": "code",
      "source": [
        "data.isnull().sum()"
      ],
      "metadata": {
        "colab": {
          "base_uri": "https://localhost:8080/"
        },
        "id": "bO0dZVEMcB4q",
        "outputId": "6145205a-f0da-4dc6-c4bf-dc4e60016920"
      },
      "execution_count": null,
      "outputs": [
        {
          "output_type": "execute_result",
          "data": {
            "text/plain": [
              "Unnamed: 0          0\n",
              "names             205\n",
              "images_links        5\n",
              "stars             226\n",
              "rating&reviews    226\n",
              "price_details       5\n",
              "memory            205\n",
              "camara_info       205\n",
              "display           205\n",
              "battery           205\n",
              "processor         248\n",
              "warranty          532\n",
              "dtype: int64"
            ]
          },
          "metadata": {},
          "execution_count": 8
        }
      ]
    },
    {
      "cell_type": "markdown",
      "source": [
        "**Summary of Data Preprocesing**\n",
        "\n",
        "*   The data contains 1148 observations and 12 variables.\n",
        "*   The data contains 10 categorical variables and 5 categorical values.\n",
        "*   The data contain a missing values.\n",
        "*   There are columns that contains two or more data, for example, we can note that the column \"rating&reviews\"  contains two data, so first we need to split some columns into two or more columns."
      ],
      "metadata": {
        "id": "t40vfSu8cEiR"
      }
    },
    {
      "cell_type": "markdown",
      "source": [
        "# 3. Procesing Data "
      ],
      "metadata": {
        "id": "yoEv6HRwcGso"
      }
    },
    {
      "cell_type": "markdown",
      "source": [
        "## 3.1 Split Columns into two or more columns"
      ],
      "metadata": {
        "id": "QftPZF_XcIMn"
      }
    },
    {
      "cell_type": "markdown",
      "source": [
        "### Column \"rating&\"reviews\""
      ],
      "metadata": {
        "id": "W6A98quzcJfy"
      }
    },
    {
      "cell_type": "code",
      "source": [
        "data[[\"Rating\", \"Reviews\"]] = data[\"rating&reviews\"].str.split(\"&\", expand = True)\n",
        "data[[\"rating&reviews\", \"Rating\", \"Reviews\"]]"
      ],
      "metadata": {
        "colab": {
          "base_uri": "https://localhost:8080/",
          "height": 423
        },
        "id": "A95E-ZemcLL-",
        "outputId": "38703d6e-e59a-47d4-abf9-286fe1b77746"
      },
      "execution_count": null,
      "outputs": [
        {
          "output_type": "execute_result",
          "data": {
            "text/plain": [
              "                        rating&reviews             Rating         Reviews\n",
              "0     1,20,759 Ratings & 7,003 Reviews  1,20,759 Ratings    7,003 Reviews\n",
              "1     1,20,759 Ratings & 7,003 Reviews  1,20,759 Ratings    7,003 Reviews\n",
              "2             702 Ratings & 67 Reviews       702 Ratings       67 Reviews\n",
              "3     1,20,759 Ratings & 7,003 Reviews  1,20,759 Ratings    7,003 Reviews\n",
              "4     1,20,759 Ratings & 7,003 Reviews  1,20,759 Ratings    7,003 Reviews\n",
              "...                                ...                ...             ...\n",
              "1143                               NaN                NaN             NaN\n",
              "1144                               NaN                NaN             NaN\n",
              "1145                               NaN                NaN             NaN\n",
              "1146                               NaN                NaN             NaN\n",
              "1147                               NaN                NaN             NaN\n",
              "\n",
              "[1148 rows x 3 columns]"
            ],
            "text/html": [
              "\n",
              "  <div id=\"df-b5e8d3c9-4b46-44ea-b5a4-20f8a8e41063\">\n",
              "    <div class=\"colab-df-container\">\n",
              "      <div>\n",
              "<style scoped>\n",
              "    .dataframe tbody tr th:only-of-type {\n",
              "        vertical-align: middle;\n",
              "    }\n",
              "\n",
              "    .dataframe tbody tr th {\n",
              "        vertical-align: top;\n",
              "    }\n",
              "\n",
              "    .dataframe thead th {\n",
              "        text-align: right;\n",
              "    }\n",
              "</style>\n",
              "<table border=\"1\" class=\"dataframe\">\n",
              "  <thead>\n",
              "    <tr style=\"text-align: right;\">\n",
              "      <th></th>\n",
              "      <th>rating&amp;reviews</th>\n",
              "      <th>Rating</th>\n",
              "      <th>Reviews</th>\n",
              "    </tr>\n",
              "  </thead>\n",
              "  <tbody>\n",
              "    <tr>\n",
              "      <th>0</th>\n",
              "      <td>1,20,759 Ratings &amp; 7,003 Reviews</td>\n",
              "      <td>1,20,759 Ratings</td>\n",
              "      <td>7,003 Reviews</td>\n",
              "    </tr>\n",
              "    <tr>\n",
              "      <th>1</th>\n",
              "      <td>1,20,759 Ratings &amp; 7,003 Reviews</td>\n",
              "      <td>1,20,759 Ratings</td>\n",
              "      <td>7,003 Reviews</td>\n",
              "    </tr>\n",
              "    <tr>\n",
              "      <th>2</th>\n",
              "      <td>702 Ratings &amp; 67 Reviews</td>\n",
              "      <td>702 Ratings</td>\n",
              "      <td>67 Reviews</td>\n",
              "    </tr>\n",
              "    <tr>\n",
              "      <th>3</th>\n",
              "      <td>1,20,759 Ratings &amp; 7,003 Reviews</td>\n",
              "      <td>1,20,759 Ratings</td>\n",
              "      <td>7,003 Reviews</td>\n",
              "    </tr>\n",
              "    <tr>\n",
              "      <th>4</th>\n",
              "      <td>1,20,759 Ratings &amp; 7,003 Reviews</td>\n",
              "      <td>1,20,759 Ratings</td>\n",
              "      <td>7,003 Reviews</td>\n",
              "    </tr>\n",
              "    <tr>\n",
              "      <th>...</th>\n",
              "      <td>...</td>\n",
              "      <td>...</td>\n",
              "      <td>...</td>\n",
              "    </tr>\n",
              "    <tr>\n",
              "      <th>1143</th>\n",
              "      <td>NaN</td>\n",
              "      <td>NaN</td>\n",
              "      <td>NaN</td>\n",
              "    </tr>\n",
              "    <tr>\n",
              "      <th>1144</th>\n",
              "      <td>NaN</td>\n",
              "      <td>NaN</td>\n",
              "      <td>NaN</td>\n",
              "    </tr>\n",
              "    <tr>\n",
              "      <th>1145</th>\n",
              "      <td>NaN</td>\n",
              "      <td>NaN</td>\n",
              "      <td>NaN</td>\n",
              "    </tr>\n",
              "    <tr>\n",
              "      <th>1146</th>\n",
              "      <td>NaN</td>\n",
              "      <td>NaN</td>\n",
              "      <td>NaN</td>\n",
              "    </tr>\n",
              "    <tr>\n",
              "      <th>1147</th>\n",
              "      <td>NaN</td>\n",
              "      <td>NaN</td>\n",
              "      <td>NaN</td>\n",
              "    </tr>\n",
              "  </tbody>\n",
              "</table>\n",
              "<p>1148 rows × 3 columns</p>\n",
              "</div>\n",
              "      <button class=\"colab-df-convert\" onclick=\"convertToInteractive('df-b5e8d3c9-4b46-44ea-b5a4-20f8a8e41063')\"\n",
              "              title=\"Convert this dataframe to an interactive table.\"\n",
              "              style=\"display:none;\">\n",
              "        \n",
              "  <svg xmlns=\"http://www.w3.org/2000/svg\" height=\"24px\"viewBox=\"0 0 24 24\"\n",
              "       width=\"24px\">\n",
              "    <path d=\"M0 0h24v24H0V0z\" fill=\"none\"/>\n",
              "    <path d=\"M18.56 5.44l.94 2.06.94-2.06 2.06-.94-2.06-.94-.94-2.06-.94 2.06-2.06.94zm-11 1L8.5 8.5l.94-2.06 2.06-.94-2.06-.94L8.5 2.5l-.94 2.06-2.06.94zm10 10l.94 2.06.94-2.06 2.06-.94-2.06-.94-.94-2.06-.94 2.06-2.06.94z\"/><path d=\"M17.41 7.96l-1.37-1.37c-.4-.4-.92-.59-1.43-.59-.52 0-1.04.2-1.43.59L10.3 9.45l-7.72 7.72c-.78.78-.78 2.05 0 2.83L4 21.41c.39.39.9.59 1.41.59.51 0 1.02-.2 1.41-.59l7.78-7.78 2.81-2.81c.8-.78.8-2.07 0-2.86zM5.41 20L4 18.59l7.72-7.72 1.47 1.35L5.41 20z\"/>\n",
              "  </svg>\n",
              "      </button>\n",
              "      \n",
              "  <style>\n",
              "    .colab-df-container {\n",
              "      display:flex;\n",
              "      flex-wrap:wrap;\n",
              "      gap: 12px;\n",
              "    }\n",
              "\n",
              "    .colab-df-convert {\n",
              "      background-color: #E8F0FE;\n",
              "      border: none;\n",
              "      border-radius: 50%;\n",
              "      cursor: pointer;\n",
              "      display: none;\n",
              "      fill: #1967D2;\n",
              "      height: 32px;\n",
              "      padding: 0 0 0 0;\n",
              "      width: 32px;\n",
              "    }\n",
              "\n",
              "    .colab-df-convert:hover {\n",
              "      background-color: #E2EBFA;\n",
              "      box-shadow: 0px 1px 2px rgba(60, 64, 67, 0.3), 0px 1px 3px 1px rgba(60, 64, 67, 0.15);\n",
              "      fill: #174EA6;\n",
              "    }\n",
              "\n",
              "    [theme=dark] .colab-df-convert {\n",
              "      background-color: #3B4455;\n",
              "      fill: #D2E3FC;\n",
              "    }\n",
              "\n",
              "    [theme=dark] .colab-df-convert:hover {\n",
              "      background-color: #434B5C;\n",
              "      box-shadow: 0px 1px 3px 1px rgba(0, 0, 0, 0.15);\n",
              "      filter: drop-shadow(0px 1px 2px rgba(0, 0, 0, 0.3));\n",
              "      fill: #FFFFFF;\n",
              "    }\n",
              "  </style>\n",
              "\n",
              "      <script>\n",
              "        const buttonEl =\n",
              "          document.querySelector('#df-b5e8d3c9-4b46-44ea-b5a4-20f8a8e41063 button.colab-df-convert');\n",
              "        buttonEl.style.display =\n",
              "          google.colab.kernel.accessAllowed ? 'block' : 'none';\n",
              "\n",
              "        async function convertToInteractive(key) {\n",
              "          const element = document.querySelector('#df-b5e8d3c9-4b46-44ea-b5a4-20f8a8e41063');\n",
              "          const dataTable =\n",
              "            await google.colab.kernel.invokeFunction('convertToInteractive',\n",
              "                                                     [key], {});\n",
              "          if (!dataTable) return;\n",
              "\n",
              "          const docLinkHtml = 'Like what you see? Visit the ' +\n",
              "            '<a target=\"_blank\" href=https://colab.research.google.com/notebooks/data_table.ipynb>data table notebook</a>'\n",
              "            + ' to learn more about interactive tables.';\n",
              "          element.innerHTML = '';\n",
              "          dataTable['output_type'] = 'display_data';\n",
              "          await google.colab.output.renderOutput(dataTable, element);\n",
              "          const docLink = document.createElement('div');\n",
              "          docLink.innerHTML = docLinkHtml;\n",
              "          element.appendChild(docLink);\n",
              "        }\n",
              "      </script>\n",
              "    </div>\n",
              "  </div>\n",
              "  "
            ]
          },
          "metadata": {},
          "execution_count": 9
        }
      ]
    },
    {
      "cell_type": "markdown",
      "source": [
        "Now, let us make uniform the two new columns, so we need to remove the letter \"Ratings\" and \"Reviews\""
      ],
      "metadata": {
        "id": "Lx2RJivccNEi"
      }
    },
    {
      "cell_type": "code",
      "source": [
        "data[\"Rating\"]= data[\"Rating\"].str.replace(\"Ratings\", \"\")\n",
        "\n",
        "data[\"Reviews\"]= data[\"Reviews\"].str.replace(\"Reviews\", \"\")\n",
        "\n"
      ],
      "metadata": {
        "id": "XyMEXdlBcP9R"
      },
      "execution_count": null,
      "outputs": []
    },
    {
      "cell_type": "markdown",
      "source": [
        "Note that there are numbers that contain two commas, so we need to remove them"
      ],
      "metadata": {
        "id": "rN9vxkP8cRZJ"
      }
    },
    {
      "cell_type": "code",
      "source": [
        "data[\"Reviews\"]= data[\"Reviews\"].str.replace(\",\", \"\")\n",
        "data[\"Rating\"]= data[\"Rating\"].str.replace(\",\", \"\")\n",
        "\n",
        "data[\"Reviews\"]= data[\"Reviews\"].str.strip()\n",
        "data[\"Rating\"]= data[\"Rating\"].str.strip()\n",
        "\n",
        "data[[\"rating&reviews\", \"Rating\", \"Reviews\"]].head()"
      ],
      "metadata": {
        "colab": {
          "base_uri": "https://localhost:8080/",
          "height": 206
        },
        "id": "PhPXMuSUcTKT",
        "outputId": "baf5ee53-8c34-4118-aa90-35013dc82f2f"
      },
      "execution_count": null,
      "outputs": [
        {
          "output_type": "execute_result",
          "data": {
            "text/plain": [
              "                     rating&reviews  Rating Reviews\n",
              "0  1,20,759 Ratings & 7,003 Reviews  120759    7003\n",
              "1  1,20,759 Ratings & 7,003 Reviews  120759    7003\n",
              "2          702 Ratings & 67 Reviews     702      67\n",
              "3  1,20,759 Ratings & 7,003 Reviews  120759    7003\n",
              "4  1,20,759 Ratings & 7,003 Reviews  120759    7003"
            ],
            "text/html": [
              "\n",
              "  <div id=\"df-53793fe9-4d94-4c2e-bfec-230fed3d885d\">\n",
              "    <div class=\"colab-df-container\">\n",
              "      <div>\n",
              "<style scoped>\n",
              "    .dataframe tbody tr th:only-of-type {\n",
              "        vertical-align: middle;\n",
              "    }\n",
              "\n",
              "    .dataframe tbody tr th {\n",
              "        vertical-align: top;\n",
              "    }\n",
              "\n",
              "    .dataframe thead th {\n",
              "        text-align: right;\n",
              "    }\n",
              "</style>\n",
              "<table border=\"1\" class=\"dataframe\">\n",
              "  <thead>\n",
              "    <tr style=\"text-align: right;\">\n",
              "      <th></th>\n",
              "      <th>rating&amp;reviews</th>\n",
              "      <th>Rating</th>\n",
              "      <th>Reviews</th>\n",
              "    </tr>\n",
              "  </thead>\n",
              "  <tbody>\n",
              "    <tr>\n",
              "      <th>0</th>\n",
              "      <td>1,20,759 Ratings &amp; 7,003 Reviews</td>\n",
              "      <td>120759</td>\n",
              "      <td>7003</td>\n",
              "    </tr>\n",
              "    <tr>\n",
              "      <th>1</th>\n",
              "      <td>1,20,759 Ratings &amp; 7,003 Reviews</td>\n",
              "      <td>120759</td>\n",
              "      <td>7003</td>\n",
              "    </tr>\n",
              "    <tr>\n",
              "      <th>2</th>\n",
              "      <td>702 Ratings &amp; 67 Reviews</td>\n",
              "      <td>702</td>\n",
              "      <td>67</td>\n",
              "    </tr>\n",
              "    <tr>\n",
              "      <th>3</th>\n",
              "      <td>1,20,759 Ratings &amp; 7,003 Reviews</td>\n",
              "      <td>120759</td>\n",
              "      <td>7003</td>\n",
              "    </tr>\n",
              "    <tr>\n",
              "      <th>4</th>\n",
              "      <td>1,20,759 Ratings &amp; 7,003 Reviews</td>\n",
              "      <td>120759</td>\n",
              "      <td>7003</td>\n",
              "    </tr>\n",
              "  </tbody>\n",
              "</table>\n",
              "</div>\n",
              "      <button class=\"colab-df-convert\" onclick=\"convertToInteractive('df-53793fe9-4d94-4c2e-bfec-230fed3d885d')\"\n",
              "              title=\"Convert this dataframe to an interactive table.\"\n",
              "              style=\"display:none;\">\n",
              "        \n",
              "  <svg xmlns=\"http://www.w3.org/2000/svg\" height=\"24px\"viewBox=\"0 0 24 24\"\n",
              "       width=\"24px\">\n",
              "    <path d=\"M0 0h24v24H0V0z\" fill=\"none\"/>\n",
              "    <path d=\"M18.56 5.44l.94 2.06.94-2.06 2.06-.94-2.06-.94-.94-2.06-.94 2.06-2.06.94zm-11 1L8.5 8.5l.94-2.06 2.06-.94-2.06-.94L8.5 2.5l-.94 2.06-2.06.94zm10 10l.94 2.06.94-2.06 2.06-.94-2.06-.94-.94-2.06-.94 2.06-2.06.94z\"/><path d=\"M17.41 7.96l-1.37-1.37c-.4-.4-.92-.59-1.43-.59-.52 0-1.04.2-1.43.59L10.3 9.45l-7.72 7.72c-.78.78-.78 2.05 0 2.83L4 21.41c.39.39.9.59 1.41.59.51 0 1.02-.2 1.41-.59l7.78-7.78 2.81-2.81c.8-.78.8-2.07 0-2.86zM5.41 20L4 18.59l7.72-7.72 1.47 1.35L5.41 20z\"/>\n",
              "  </svg>\n",
              "      </button>\n",
              "      \n",
              "  <style>\n",
              "    .colab-df-container {\n",
              "      display:flex;\n",
              "      flex-wrap:wrap;\n",
              "      gap: 12px;\n",
              "    }\n",
              "\n",
              "    .colab-df-convert {\n",
              "      background-color: #E8F0FE;\n",
              "      border: none;\n",
              "      border-radius: 50%;\n",
              "      cursor: pointer;\n",
              "      display: none;\n",
              "      fill: #1967D2;\n",
              "      height: 32px;\n",
              "      padding: 0 0 0 0;\n",
              "      width: 32px;\n",
              "    }\n",
              "\n",
              "    .colab-df-convert:hover {\n",
              "      background-color: #E2EBFA;\n",
              "      box-shadow: 0px 1px 2px rgba(60, 64, 67, 0.3), 0px 1px 3px 1px rgba(60, 64, 67, 0.15);\n",
              "      fill: #174EA6;\n",
              "    }\n",
              "\n",
              "    [theme=dark] .colab-df-convert {\n",
              "      background-color: #3B4455;\n",
              "      fill: #D2E3FC;\n",
              "    }\n",
              "\n",
              "    [theme=dark] .colab-df-convert:hover {\n",
              "      background-color: #434B5C;\n",
              "      box-shadow: 0px 1px 3px 1px rgba(0, 0, 0, 0.15);\n",
              "      filter: drop-shadow(0px 1px 2px rgba(0, 0, 0, 0.3));\n",
              "      fill: #FFFFFF;\n",
              "    }\n",
              "  </style>\n",
              "\n",
              "      <script>\n",
              "        const buttonEl =\n",
              "          document.querySelector('#df-53793fe9-4d94-4c2e-bfec-230fed3d885d button.colab-df-convert');\n",
              "        buttonEl.style.display =\n",
              "          google.colab.kernel.accessAllowed ? 'block' : 'none';\n",
              "\n",
              "        async function convertToInteractive(key) {\n",
              "          const element = document.querySelector('#df-53793fe9-4d94-4c2e-bfec-230fed3d885d');\n",
              "          const dataTable =\n",
              "            await google.colab.kernel.invokeFunction('convertToInteractive',\n",
              "                                                     [key], {});\n",
              "          if (!dataTable) return;\n",
              "\n",
              "          const docLinkHtml = 'Like what you see? Visit the ' +\n",
              "            '<a target=\"_blank\" href=https://colab.research.google.com/notebooks/data_table.ipynb>data table notebook</a>'\n",
              "            + ' to learn more about interactive tables.';\n",
              "          element.innerHTML = '';\n",
              "          dataTable['output_type'] = 'display_data';\n",
              "          await google.colab.output.renderOutput(dataTable, element);\n",
              "          const docLink = document.createElement('div');\n",
              "          docLink.innerHTML = docLinkHtml;\n",
              "          element.appendChild(docLink);\n",
              "        }\n",
              "      </script>\n",
              "    </div>\n",
              "  </div>\n",
              "  "
            ]
          },
          "metadata": {},
          "execution_count": 66
        }
      ]
    },
    {
      "cell_type": "code",
      "source": [
        "data[[\"rating&reviews\", \"Rating\", \"Reviews\"]].isnull().sum()"
      ],
      "metadata": {
        "id": "guQVythNcW1y"
      },
      "execution_count": null,
      "outputs": []
    },
    {
      "cell_type": "markdown",
      "source": [
        "### Column \"memory\""
      ],
      "metadata": {
        "id": "SOIjEQYScYNp"
      }
    },
    {
      "cell_type": "code",
      "source": [
        "data[[\"Ram\", \"Interna\", \"Externa\"]] = data[\"memory\"].str.split(\"|\", expand = True)"
      ],
      "metadata": {
        "id": "TghEhGSecZo4"
      },
      "execution_count": null,
      "outputs": []
    },
    {
      "cell_type": "code",
      "source": [
        "#Adjust the data in the true column\n",
        "for i,row in enumerate(data.Externa):\n",
        "  if \"None\" in str(row):\n",
        "    data.loc[i,\"Externa\"]= \"0\"\n",
        "for i,row in enumerate(data[\"Interna\"]):\n",
        "  if \" Expandable Upto\" in str(row):\n",
        "    data.loc[i,\"Externa\"]= data.loc[i,\"Interna\"]\n",
        "    data.loc[i,\"Interna\"]= \"0\"\n",
        "  if \"None\" in str(row):\n",
        "    data.loc[i,\"Interna\"]= \"0\"\n",
        "\n",
        "\n",
        "for i,row in enumerate(data[\"Ram\"]):\n",
        "  if \"ROM\" in str(row):\n",
        "    data.loc[i,\"Interna\"]= data.loc[i,\"Ram\"]\n",
        "    data.loc[i,\"Ram\"]= \"0\"\n",
        "  elif \"Expandable Upto 8 GB\" in str(row):\n",
        "    data.loc[i,\"Externa\"]= data.loc[i,\"Ram\"]\n",
        "    data.loc[i,\"Ram\"]= \"0\"\n",
        "  elif \"6.6 cm (2.6 inch) QVGA Display\" in str(row):\n",
        "    data.loc[i,\"Ram\"]=\"0\"\n",
        "\n",
        " #Removing the word  \" ROM\", \"ROM\", \"RAM\", \"Expandable Upto\"  \n",
        "data['Externa'] = data['Externa'].str.replace('Expandable Upto ', '')\n",
        "data['Interna'] = data['Interna'].str.replace(' ROM ', '')\n",
        "data['Interna'] = data['Interna'].str.replace('ROM', '')\n",
        "data['Ram'] = data['Ram'].str.replace(' RAM ', '')\n",
        "\n",
        "#Removing the blank space\n",
        "data[\"Interna\"]=data[\"Interna\"].str.strip()\n",
        "data[\"Externa\"]=data[\"Externa\"].str.strip()\n",
        "\n",
        "data[\"Interna\"]=data[\"Interna\"].str.replace(\"0 GB\",\"0\")\n",
        "data[\"Interna\"]=data[\"Interna\"].str.replace(\"0 MB\",\"0\") "
      ],
      "metadata": {
        "id": "APiHKhZvckC4"
      },
      "execution_count": null,
      "outputs": []
    },
    {
      "cell_type": "code",
      "source": [
        "#Final result from column \"memory\"\n",
        "data[[\"memory\",\"Ram\", \"Interna\", \"Externa\"]].head()\n"
      ],
      "metadata": {
        "colab": {
          "base_uri": "https://localhost:8080/",
          "height": 206
        },
        "id": "EkW2vtHwcnSq",
        "outputId": "9ae87785-f889-45a9-bc92-71c23a33cad2"
      },
      "execution_count": null,
      "outputs": [
        {
          "output_type": "execute_result",
          "data": {
            "text/plain": [
              "                                         memory   Ram Interna Externa\n",
              "0   4 GB RAM | 64 GB ROM | Expandable Upto 1 TB  4 GB   64 GB    1 TB\n",
              "1   4 GB RAM | 64 GB ROM | Expandable Upto 1 TB  4 GB   64 GB    1 TB\n",
              "2   4 MB RAM | 4 MB ROM | Expandable Upto 32 GB  4 MB    4 MB   32 GB\n",
              "3  4 GB RAM | 128 GB ROM | Expandable Upto 1 TB  4 GB  128 GB    1 TB\n",
              "4  4 GB RAM | 128 GB ROM | Expandable Upto 1 TB  4 GB  128 GB    1 TB"
            ],
            "text/html": [
              "\n",
              "  <div id=\"df-2f73e8b4-dd58-4925-b826-787dbfc66586\">\n",
              "    <div class=\"colab-df-container\">\n",
              "      <div>\n",
              "<style scoped>\n",
              "    .dataframe tbody tr th:only-of-type {\n",
              "        vertical-align: middle;\n",
              "    }\n",
              "\n",
              "    .dataframe tbody tr th {\n",
              "        vertical-align: top;\n",
              "    }\n",
              "\n",
              "    .dataframe thead th {\n",
              "        text-align: right;\n",
              "    }\n",
              "</style>\n",
              "<table border=\"1\" class=\"dataframe\">\n",
              "  <thead>\n",
              "    <tr style=\"text-align: right;\">\n",
              "      <th></th>\n",
              "      <th>memory</th>\n",
              "      <th>Ram</th>\n",
              "      <th>Interna</th>\n",
              "      <th>Externa</th>\n",
              "    </tr>\n",
              "  </thead>\n",
              "  <tbody>\n",
              "    <tr>\n",
              "      <th>0</th>\n",
              "      <td>4 GB RAM | 64 GB ROM | Expandable Upto 1 TB</td>\n",
              "      <td>4 GB</td>\n",
              "      <td>64 GB</td>\n",
              "      <td>1 TB</td>\n",
              "    </tr>\n",
              "    <tr>\n",
              "      <th>1</th>\n",
              "      <td>4 GB RAM | 64 GB ROM | Expandable Upto 1 TB</td>\n",
              "      <td>4 GB</td>\n",
              "      <td>64 GB</td>\n",
              "      <td>1 TB</td>\n",
              "    </tr>\n",
              "    <tr>\n",
              "      <th>2</th>\n",
              "      <td>4 MB RAM | 4 MB ROM | Expandable Upto 32 GB</td>\n",
              "      <td>4 MB</td>\n",
              "      <td>4 MB</td>\n",
              "      <td>32 GB</td>\n",
              "    </tr>\n",
              "    <tr>\n",
              "      <th>3</th>\n",
              "      <td>4 GB RAM | 128 GB ROM | Expandable Upto 1 TB</td>\n",
              "      <td>4 GB</td>\n",
              "      <td>128 GB</td>\n",
              "      <td>1 TB</td>\n",
              "    </tr>\n",
              "    <tr>\n",
              "      <th>4</th>\n",
              "      <td>4 GB RAM | 128 GB ROM | Expandable Upto 1 TB</td>\n",
              "      <td>4 GB</td>\n",
              "      <td>128 GB</td>\n",
              "      <td>1 TB</td>\n",
              "    </tr>\n",
              "  </tbody>\n",
              "</table>\n",
              "</div>\n",
              "      <button class=\"colab-df-convert\" onclick=\"convertToInteractive('df-2f73e8b4-dd58-4925-b826-787dbfc66586')\"\n",
              "              title=\"Convert this dataframe to an interactive table.\"\n",
              "              style=\"display:none;\">\n",
              "        \n",
              "  <svg xmlns=\"http://www.w3.org/2000/svg\" height=\"24px\"viewBox=\"0 0 24 24\"\n",
              "       width=\"24px\">\n",
              "    <path d=\"M0 0h24v24H0V0z\" fill=\"none\"/>\n",
              "    <path d=\"M18.56 5.44l.94 2.06.94-2.06 2.06-.94-2.06-.94-.94-2.06-.94 2.06-2.06.94zm-11 1L8.5 8.5l.94-2.06 2.06-.94-2.06-.94L8.5 2.5l-.94 2.06-2.06.94zm10 10l.94 2.06.94-2.06 2.06-.94-2.06-.94-.94-2.06-.94 2.06-2.06.94z\"/><path d=\"M17.41 7.96l-1.37-1.37c-.4-.4-.92-.59-1.43-.59-.52 0-1.04.2-1.43.59L10.3 9.45l-7.72 7.72c-.78.78-.78 2.05 0 2.83L4 21.41c.39.39.9.59 1.41.59.51 0 1.02-.2 1.41-.59l7.78-7.78 2.81-2.81c.8-.78.8-2.07 0-2.86zM5.41 20L4 18.59l7.72-7.72 1.47 1.35L5.41 20z\"/>\n",
              "  </svg>\n",
              "      </button>\n",
              "      \n",
              "  <style>\n",
              "    .colab-df-container {\n",
              "      display:flex;\n",
              "      flex-wrap:wrap;\n",
              "      gap: 12px;\n",
              "    }\n",
              "\n",
              "    .colab-df-convert {\n",
              "      background-color: #E8F0FE;\n",
              "      border: none;\n",
              "      border-radius: 50%;\n",
              "      cursor: pointer;\n",
              "      display: none;\n",
              "      fill: #1967D2;\n",
              "      height: 32px;\n",
              "      padding: 0 0 0 0;\n",
              "      width: 32px;\n",
              "    }\n",
              "\n",
              "    .colab-df-convert:hover {\n",
              "      background-color: #E2EBFA;\n",
              "      box-shadow: 0px 1px 2px rgba(60, 64, 67, 0.3), 0px 1px 3px 1px rgba(60, 64, 67, 0.15);\n",
              "      fill: #174EA6;\n",
              "    }\n",
              "\n",
              "    [theme=dark] .colab-df-convert {\n",
              "      background-color: #3B4455;\n",
              "      fill: #D2E3FC;\n",
              "    }\n",
              "\n",
              "    [theme=dark] .colab-df-convert:hover {\n",
              "      background-color: #434B5C;\n",
              "      box-shadow: 0px 1px 3px 1px rgba(0, 0, 0, 0.15);\n",
              "      filter: drop-shadow(0px 1px 2px rgba(0, 0, 0, 0.3));\n",
              "      fill: #FFFFFF;\n",
              "    }\n",
              "  </style>\n",
              "\n",
              "      <script>\n",
              "        const buttonEl =\n",
              "          document.querySelector('#df-2f73e8b4-dd58-4925-b826-787dbfc66586 button.colab-df-convert');\n",
              "        buttonEl.style.display =\n",
              "          google.colab.kernel.accessAllowed ? 'block' : 'none';\n",
              "\n",
              "        async function convertToInteractive(key) {\n",
              "          const element = document.querySelector('#df-2f73e8b4-dd58-4925-b826-787dbfc66586');\n",
              "          const dataTable =\n",
              "            await google.colab.kernel.invokeFunction('convertToInteractive',\n",
              "                                                     [key], {});\n",
              "          if (!dataTable) return;\n",
              "\n",
              "          const docLinkHtml = 'Like what you see? Visit the ' +\n",
              "            '<a target=\"_blank\" href=https://colab.research.google.com/notebooks/data_table.ipynb>data table notebook</a>'\n",
              "            + ' to learn more about interactive tables.';\n",
              "          element.innerHTML = '';\n",
              "          dataTable['output_type'] = 'display_data';\n",
              "          await google.colab.output.renderOutput(dataTable, element);\n",
              "          const docLink = document.createElement('div');\n",
              "          docLink.innerHTML = docLinkHtml;\n",
              "          element.appendChild(docLink);\n",
              "        }\n",
              "      </script>\n",
              "    </div>\n",
              "  </div>\n",
              "  "
            ]
          },
          "metadata": {},
          "execution_count": 14
        }
      ]
    },
    {
      "cell_type": "code",
      "source": [
        "data[[\"memory\",\"Ram\", \"Interna\", \"Externa\"]].isnull().sum()"
      ],
      "metadata": {
        "colab": {
          "base_uri": "https://localhost:8080/"
        },
        "id": "2ekmShpBcrSh",
        "outputId": "75184b77-453b-4fed-98d0-23b475c27a8a"
      },
      "execution_count": null,
      "outputs": [
        {
          "output_type": "execute_result",
          "data": {
            "text/plain": [
              "memory     205\n",
              "Ram        205\n",
              "Interna    205\n",
              "Externa    205\n",
              "dtype: int64"
            ]
          },
          "metadata": {},
          "execution_count": 15
        }
      ]
    },
    {
      "cell_type": "markdown",
      "source": [
        "### Column \"name\""
      ],
      "metadata": {
        "id": "2y_3nMuSctL4"
      }
    },
    {
      "cell_type": "code",
      "source": [
        "import numpy as np\n",
        "for i, row in enumerate(data[\"names\"]):\n",
        "  word=str(row)\n",
        "  if \"(PRODUCT)\" in word:\n",
        "    word= word.replace(\"(PRODUCT)\",\"\")\n",
        "    data.loc[i,\"names\"]= word\n",
        "  elif \"(1)\" in word:\n",
        "    word= word.replace(\"(1)\",\"\")\n",
        "    data.loc[i,\"names\"]= word\n",
        "  elif \"(Without Charger)\" in word:\n",
        "    word= word.replace(\"(Without Charger)\",\"\")\n",
        "    data.loc[i,\"names\"]= word\n",
        "data.loc[ data[\"names\"]==\"MarQ by Flipkart M3 Smart (M3) (Blue,32GB)( 2GB RAM)\",[\"names\"]]=  \"MarQ by Flipkart M3 Smart M3 (Blue,32GB 2GB RAM)\""
      ],
      "metadata": {
        "id": "nfpA2ADGcvP_"
      },
      "execution_count": null,
      "outputs": []
    },
    {
      "cell_type": "code",
      "source": [
        "import numpy as np\n",
        "for i, row in enumerate(data[\"names\"]):\n",
        "  word=str(row)\n",
        "  if \"(\" in word:\n",
        "    data.loc[i,[\"Name\",\"Color\"]] = data.loc[i,\"names\"].split(\"(\")\n",
        "  elif \"nan\" in word:\n",
        "    data.loc[i,[\"Name\"]]= None\n",
        "    data.loc[i,[\"Color\"]]=None\n",
        "  else:\n",
        "    data.loc[i,[\"Name\"]] = row\n",
        "    data.loc[i,[\"Color\"]]=\"No Define\""
      ],
      "metadata": {
        "id": "btDiMlQcc3nM"
      },
      "execution_count": null,
      "outputs": []
    },
    {
      "cell_type": "code",
      "source": [
        "for i, row in enumerate(data[\"Color\"]):\n",
        "  word=str(row)\n",
        "  x=word.replace(\")\",\"\")\n",
        "  data.loc[i,\"Color\"]= x\n",
        "\n",
        "for i, row in enumerate(data[\"Color\"]):\n",
        "  word=str(row)\n",
        "  if \",\" in word:\n",
        "    pp= data.loc[i,\"Color\"].split(\",\")\n",
        "    data.loc[i,\"Color\"]= pp[0]\n",
        "  else:\n",
        "    data.loc[i,\"Color\"]= word"
      ],
      "metadata": {
        "id": "8DnkbmKTc5rL"
      },
      "execution_count": null,
      "outputs": []
    },
    {
      "cell_type": "code",
      "source": [
        "data[\"Name\"]= data[\"Name\"].str.title()"
      ],
      "metadata": {
        "id": "hx3O9GIAc89K"
      },
      "execution_count": null,
      "outputs": []
    },
    {
      "cell_type": "code",
      "source": [
        "#Vizualizing  the final result\n",
        "data[[\"names\",\"Name\",\"Color\"]].head(5)"
      ],
      "metadata": {
        "colab": {
          "base_uri": "https://localhost:8080/",
          "height": 206
        },
        "id": "0naNHS6nc_ng",
        "outputId": "2a1e6d0d-6699-4faf-b2b1-16f42b3e184f"
      },
      "execution_count": null,
      "outputs": [
        {
          "output_type": "execute_result",
          "data": {
            "text/plain": [
              "                                         names                 Name  \\\n",
              "0   SAMSUNG Galaxy F13 (Waterfall Blue, 64 GB)  Samsung Galaxy F13    \n",
              "1   SAMSUNG Galaxy F13 (Sunrise Copper, 64 GB)  Samsung Galaxy F13    \n",
              "2                                 itel it2163S         Itel It2163S   \n",
              "3  SAMSUNG Galaxy F13 (Nightsky Green, 128 GB)  Samsung Galaxy F13    \n",
              "4  SAMSUNG Galaxy F13 (Waterfall Blue, 128 GB)  Samsung Galaxy F13    \n",
              "\n",
              "            Color  \n",
              "0  Waterfall Blue  \n",
              "1  Sunrise Copper  \n",
              "2       No Define  \n",
              "3  Nightsky Green  \n",
              "4  Waterfall Blue  "
            ],
            "text/html": [
              "\n",
              "  <div id=\"df-6b28d441-bd19-4e9a-8381-944ab129b687\">\n",
              "    <div class=\"colab-df-container\">\n",
              "      <div>\n",
              "<style scoped>\n",
              "    .dataframe tbody tr th:only-of-type {\n",
              "        vertical-align: middle;\n",
              "    }\n",
              "\n",
              "    .dataframe tbody tr th {\n",
              "        vertical-align: top;\n",
              "    }\n",
              "\n",
              "    .dataframe thead th {\n",
              "        text-align: right;\n",
              "    }\n",
              "</style>\n",
              "<table border=\"1\" class=\"dataframe\">\n",
              "  <thead>\n",
              "    <tr style=\"text-align: right;\">\n",
              "      <th></th>\n",
              "      <th>names</th>\n",
              "      <th>Name</th>\n",
              "      <th>Color</th>\n",
              "    </tr>\n",
              "  </thead>\n",
              "  <tbody>\n",
              "    <tr>\n",
              "      <th>0</th>\n",
              "      <td>SAMSUNG Galaxy F13 (Waterfall Blue, 64 GB)</td>\n",
              "      <td>Samsung Galaxy F13</td>\n",
              "      <td>Waterfall Blue</td>\n",
              "    </tr>\n",
              "    <tr>\n",
              "      <th>1</th>\n",
              "      <td>SAMSUNG Galaxy F13 (Sunrise Copper, 64 GB)</td>\n",
              "      <td>Samsung Galaxy F13</td>\n",
              "      <td>Sunrise Copper</td>\n",
              "    </tr>\n",
              "    <tr>\n",
              "      <th>2</th>\n",
              "      <td>itel it2163S</td>\n",
              "      <td>Itel It2163S</td>\n",
              "      <td>No Define</td>\n",
              "    </tr>\n",
              "    <tr>\n",
              "      <th>3</th>\n",
              "      <td>SAMSUNG Galaxy F13 (Nightsky Green, 128 GB)</td>\n",
              "      <td>Samsung Galaxy F13</td>\n",
              "      <td>Nightsky Green</td>\n",
              "    </tr>\n",
              "    <tr>\n",
              "      <th>4</th>\n",
              "      <td>SAMSUNG Galaxy F13 (Waterfall Blue, 128 GB)</td>\n",
              "      <td>Samsung Galaxy F13</td>\n",
              "      <td>Waterfall Blue</td>\n",
              "    </tr>\n",
              "  </tbody>\n",
              "</table>\n",
              "</div>\n",
              "      <button class=\"colab-df-convert\" onclick=\"convertToInteractive('df-6b28d441-bd19-4e9a-8381-944ab129b687')\"\n",
              "              title=\"Convert this dataframe to an interactive table.\"\n",
              "              style=\"display:none;\">\n",
              "        \n",
              "  <svg xmlns=\"http://www.w3.org/2000/svg\" height=\"24px\"viewBox=\"0 0 24 24\"\n",
              "       width=\"24px\">\n",
              "    <path d=\"M0 0h24v24H0V0z\" fill=\"none\"/>\n",
              "    <path d=\"M18.56 5.44l.94 2.06.94-2.06 2.06-.94-2.06-.94-.94-2.06-.94 2.06-2.06.94zm-11 1L8.5 8.5l.94-2.06 2.06-.94-2.06-.94L8.5 2.5l-.94 2.06-2.06.94zm10 10l.94 2.06.94-2.06 2.06-.94-2.06-.94-.94-2.06-.94 2.06-2.06.94z\"/><path d=\"M17.41 7.96l-1.37-1.37c-.4-.4-.92-.59-1.43-.59-.52 0-1.04.2-1.43.59L10.3 9.45l-7.72 7.72c-.78.78-.78 2.05 0 2.83L4 21.41c.39.39.9.59 1.41.59.51 0 1.02-.2 1.41-.59l7.78-7.78 2.81-2.81c.8-.78.8-2.07 0-2.86zM5.41 20L4 18.59l7.72-7.72 1.47 1.35L5.41 20z\"/>\n",
              "  </svg>\n",
              "      </button>\n",
              "      \n",
              "  <style>\n",
              "    .colab-df-container {\n",
              "      display:flex;\n",
              "      flex-wrap:wrap;\n",
              "      gap: 12px;\n",
              "    }\n",
              "\n",
              "    .colab-df-convert {\n",
              "      background-color: #E8F0FE;\n",
              "      border: none;\n",
              "      border-radius: 50%;\n",
              "      cursor: pointer;\n",
              "      display: none;\n",
              "      fill: #1967D2;\n",
              "      height: 32px;\n",
              "      padding: 0 0 0 0;\n",
              "      width: 32px;\n",
              "    }\n",
              "\n",
              "    .colab-df-convert:hover {\n",
              "      background-color: #E2EBFA;\n",
              "      box-shadow: 0px 1px 2px rgba(60, 64, 67, 0.3), 0px 1px 3px 1px rgba(60, 64, 67, 0.15);\n",
              "      fill: #174EA6;\n",
              "    }\n",
              "\n",
              "    [theme=dark] .colab-df-convert {\n",
              "      background-color: #3B4455;\n",
              "      fill: #D2E3FC;\n",
              "    }\n",
              "\n",
              "    [theme=dark] .colab-df-convert:hover {\n",
              "      background-color: #434B5C;\n",
              "      box-shadow: 0px 1px 3px 1px rgba(0, 0, 0, 0.15);\n",
              "      filter: drop-shadow(0px 1px 2px rgba(0, 0, 0, 0.3));\n",
              "      fill: #FFFFFF;\n",
              "    }\n",
              "  </style>\n",
              "\n",
              "      <script>\n",
              "        const buttonEl =\n",
              "          document.querySelector('#df-6b28d441-bd19-4e9a-8381-944ab129b687 button.colab-df-convert');\n",
              "        buttonEl.style.display =\n",
              "          google.colab.kernel.accessAllowed ? 'block' : 'none';\n",
              "\n",
              "        async function convertToInteractive(key) {\n",
              "          const element = document.querySelector('#df-6b28d441-bd19-4e9a-8381-944ab129b687');\n",
              "          const dataTable =\n",
              "            await google.colab.kernel.invokeFunction('convertToInteractive',\n",
              "                                                     [key], {});\n",
              "          if (!dataTable) return;\n",
              "\n",
              "          const docLinkHtml = 'Like what you see? Visit the ' +\n",
              "            '<a target=\"_blank\" href=https://colab.research.google.com/notebooks/data_table.ipynb>data table notebook</a>'\n",
              "            + ' to learn more about interactive tables.';\n",
              "          element.innerHTML = '';\n",
              "          dataTable['output_type'] = 'display_data';\n",
              "          await google.colab.output.renderOutput(dataTable, element);\n",
              "          const docLink = document.createElement('div');\n",
              "          docLink.innerHTML = docLinkHtml;\n",
              "          element.appendChild(docLink);\n",
              "        }\n",
              "      </script>\n",
              "    </div>\n",
              "  </div>\n",
              "  "
            ]
          },
          "metadata": {},
          "execution_count": 23
        }
      ]
    },
    {
      "cell_type": "code",
      "source": [
        " data[[\"names\",\"Name\",\"Color\"]].isnull().sum()"
      ],
      "metadata": {
        "colab": {
          "base_uri": "https://localhost:8080/"
        },
        "id": "2EhiGklXdFHP",
        "outputId": "b2b61dad-af54-49ab-f2a0-6ccfc16a5030"
      },
      "execution_count": null,
      "outputs": [
        {
          "output_type": "execute_result",
          "data": {
            "text/plain": [
              "names    205\n",
              "Name     205\n",
              "Color      0\n",
              "dtype: int64"
            ]
          },
          "metadata": {},
          "execution_count": 24
        }
      ]
    },
    {
      "cell_type": "code",
      "source": [
        " data[[\"names\",\"Name\",\"Color\"]].isnull().sum()"
      ],
      "metadata": {
        "colab": {
          "base_uri": "https://localhost:8080/"
        },
        "id": "jRusc0h4dPQJ",
        "outputId": "63e8ef69-6065-4916-bb4f-057bd71d5502"
      },
      "execution_count": null,
      "outputs": [
        {
          "output_type": "execute_result",
          "data": {
            "text/plain": [
              "names    205\n",
              "Name     205\n",
              "Color      0\n",
              "dtype: int64"
            ]
          },
          "metadata": {},
          "execution_count": 25
        }
      ]
    },
    {
      "cell_type": "markdown",
      "source": [
        "### Column \"price_details\""
      ],
      "metadata": {
        "id": "x5dZfB9ldQe9"
      }
    },
    {
      "cell_type": "code",
      "source": [
        "data[[\"Price\", \"Discount\"]] = data[\"price_details\"].str.split(\"\\n\", expand = True)\n",
        "for i, row in enumerate(data.Price):\n",
        "  if \"off\" in str(row):\n",
        "    data.loc[i,\"Price\"]=data.loc[i,\"Discount\"]\n",
        "    data.loc[i,\"Price\"]=\"0\""
      ],
      "metadata": {
        "id": "IDKnLgAJdTZq"
      },
      "execution_count": null,
      "outputs": []
    },
    {
      "cell_type": "code",
      "source": [
        "data[\"Price\"]=data[\"Price\"].str.replace(\"₹\",\"\")\n",
        "data[\"Discount\"]=data[\"Discount\"].str.replace(\"₹\",\"\")\n",
        "data[\"Discount\"]=data[\"Discount\"].str.replace(\"% off\",\"\")\n",
        "data[\"Price\"]=data[\"Price\"].str.replace(\",\",\"\")\n",
        "data[\"Discount\"]=data[\"Discount\"].str.replace(\",\",\"\")"
      ],
      "metadata": {
        "id": "wa1zBq2zdaN5"
      },
      "execution_count": null,
      "outputs": []
    },
    {
      "cell_type": "code",
      "source": [
        "#Show the final result for the column \"price_details\"\n",
        "data[[\"price_details\", \"Price\",\"Discount\"]].head()"
      ],
      "metadata": {
        "colab": {
          "base_uri": "https://localhost:8080/",
          "height": 206
        },
        "id": "HFIrbUPndc3h",
        "outputId": "c6204694-db0a-4a78-9049-25fdc7c73686"
      },
      "execution_count": null,
      "outputs": [
        {
          "output_type": "execute_result",
          "data": {
            "text/plain": [
              "             price_details  Price Discount\n",
              "0   ₹9,699\\n₹14,99935% off   9699  1499935\n",
              "1   ₹9,699\\n₹14,99935% off   9699  1499935\n",
              "2         ₹989\\n₹9991% off    989     9991\n",
              "3  ₹10,699\\n₹16,99937% off  10699  1699937\n",
              "4  ₹10,699\\n₹16,99937% off  10699  1699937"
            ],
            "text/html": [
              "\n",
              "  <div id=\"df-50f84eee-8fc2-4606-8b99-c1cc8628c3f9\">\n",
              "    <div class=\"colab-df-container\">\n",
              "      <div>\n",
              "<style scoped>\n",
              "    .dataframe tbody tr th:only-of-type {\n",
              "        vertical-align: middle;\n",
              "    }\n",
              "\n",
              "    .dataframe tbody tr th {\n",
              "        vertical-align: top;\n",
              "    }\n",
              "\n",
              "    .dataframe thead th {\n",
              "        text-align: right;\n",
              "    }\n",
              "</style>\n",
              "<table border=\"1\" class=\"dataframe\">\n",
              "  <thead>\n",
              "    <tr style=\"text-align: right;\">\n",
              "      <th></th>\n",
              "      <th>price_details</th>\n",
              "      <th>Price</th>\n",
              "      <th>Discount</th>\n",
              "    </tr>\n",
              "  </thead>\n",
              "  <tbody>\n",
              "    <tr>\n",
              "      <th>0</th>\n",
              "      <td>₹9,699\\n₹14,99935% off</td>\n",
              "      <td>9699</td>\n",
              "      <td>1499935</td>\n",
              "    </tr>\n",
              "    <tr>\n",
              "      <th>1</th>\n",
              "      <td>₹9,699\\n₹14,99935% off</td>\n",
              "      <td>9699</td>\n",
              "      <td>1499935</td>\n",
              "    </tr>\n",
              "    <tr>\n",
              "      <th>2</th>\n",
              "      <td>₹989\\n₹9991% off</td>\n",
              "      <td>989</td>\n",
              "      <td>9991</td>\n",
              "    </tr>\n",
              "    <tr>\n",
              "      <th>3</th>\n",
              "      <td>₹10,699\\n₹16,99937% off</td>\n",
              "      <td>10699</td>\n",
              "      <td>1699937</td>\n",
              "    </tr>\n",
              "    <tr>\n",
              "      <th>4</th>\n",
              "      <td>₹10,699\\n₹16,99937% off</td>\n",
              "      <td>10699</td>\n",
              "      <td>1699937</td>\n",
              "    </tr>\n",
              "  </tbody>\n",
              "</table>\n",
              "</div>\n",
              "      <button class=\"colab-df-convert\" onclick=\"convertToInteractive('df-50f84eee-8fc2-4606-8b99-c1cc8628c3f9')\"\n",
              "              title=\"Convert this dataframe to an interactive table.\"\n",
              "              style=\"display:none;\">\n",
              "        \n",
              "  <svg xmlns=\"http://www.w3.org/2000/svg\" height=\"24px\"viewBox=\"0 0 24 24\"\n",
              "       width=\"24px\">\n",
              "    <path d=\"M0 0h24v24H0V0z\" fill=\"none\"/>\n",
              "    <path d=\"M18.56 5.44l.94 2.06.94-2.06 2.06-.94-2.06-.94-.94-2.06-.94 2.06-2.06.94zm-11 1L8.5 8.5l.94-2.06 2.06-.94-2.06-.94L8.5 2.5l-.94 2.06-2.06.94zm10 10l.94 2.06.94-2.06 2.06-.94-2.06-.94-.94-2.06-.94 2.06-2.06.94z\"/><path d=\"M17.41 7.96l-1.37-1.37c-.4-.4-.92-.59-1.43-.59-.52 0-1.04.2-1.43.59L10.3 9.45l-7.72 7.72c-.78.78-.78 2.05 0 2.83L4 21.41c.39.39.9.59 1.41.59.51 0 1.02-.2 1.41-.59l7.78-7.78 2.81-2.81c.8-.78.8-2.07 0-2.86zM5.41 20L4 18.59l7.72-7.72 1.47 1.35L5.41 20z\"/>\n",
              "  </svg>\n",
              "      </button>\n",
              "      \n",
              "  <style>\n",
              "    .colab-df-container {\n",
              "      display:flex;\n",
              "      flex-wrap:wrap;\n",
              "      gap: 12px;\n",
              "    }\n",
              "\n",
              "    .colab-df-convert {\n",
              "      background-color: #E8F0FE;\n",
              "      border: none;\n",
              "      border-radius: 50%;\n",
              "      cursor: pointer;\n",
              "      display: none;\n",
              "      fill: #1967D2;\n",
              "      height: 32px;\n",
              "      padding: 0 0 0 0;\n",
              "      width: 32px;\n",
              "    }\n",
              "\n",
              "    .colab-df-convert:hover {\n",
              "      background-color: #E2EBFA;\n",
              "      box-shadow: 0px 1px 2px rgba(60, 64, 67, 0.3), 0px 1px 3px 1px rgba(60, 64, 67, 0.15);\n",
              "      fill: #174EA6;\n",
              "    }\n",
              "\n",
              "    [theme=dark] .colab-df-convert {\n",
              "      background-color: #3B4455;\n",
              "      fill: #D2E3FC;\n",
              "    }\n",
              "\n",
              "    [theme=dark] .colab-df-convert:hover {\n",
              "      background-color: #434B5C;\n",
              "      box-shadow: 0px 1px 3px 1px rgba(0, 0, 0, 0.15);\n",
              "      filter: drop-shadow(0px 1px 2px rgba(0, 0, 0, 0.3));\n",
              "      fill: #FFFFFF;\n",
              "    }\n",
              "  </style>\n",
              "\n",
              "      <script>\n",
              "        const buttonEl =\n",
              "          document.querySelector('#df-50f84eee-8fc2-4606-8b99-c1cc8628c3f9 button.colab-df-convert');\n",
              "        buttonEl.style.display =\n",
              "          google.colab.kernel.accessAllowed ? 'block' : 'none';\n",
              "\n",
              "        async function convertToInteractive(key) {\n",
              "          const element = document.querySelector('#df-50f84eee-8fc2-4606-8b99-c1cc8628c3f9');\n",
              "          const dataTable =\n",
              "            await google.colab.kernel.invokeFunction('convertToInteractive',\n",
              "                                                     [key], {});\n",
              "          if (!dataTable) return;\n",
              "\n",
              "          const docLinkHtml = 'Like what you see? Visit the ' +\n",
              "            '<a target=\"_blank\" href=https://colab.research.google.com/notebooks/data_table.ipynb>data table notebook</a>'\n",
              "            + ' to learn more about interactive tables.';\n",
              "          element.innerHTML = '';\n",
              "          dataTable['output_type'] = 'display_data';\n",
              "          await google.colab.output.renderOutput(dataTable, element);\n",
              "          const docLink = document.createElement('div');\n",
              "          docLink.innerHTML = docLinkHtml;\n",
              "          element.appendChild(docLink);\n",
              "        }\n",
              "      </script>\n",
              "    </div>\n",
              "  </div>\n",
              "  "
            ]
          },
          "metadata": {},
          "execution_count": 82
        }
      ]
    },
    {
      "cell_type": "code",
      "source": [
        "data[[\"price_details\", \"Price\",\"Discount\"]].isnull().sum()"
      ],
      "metadata": {
        "colab": {
          "base_uri": "https://localhost:8080/"
        },
        "id": "Dl3RVisMdg-g",
        "outputId": "00421bd0-01bf-4a4f-d4fe-f46e42fed177"
      },
      "execution_count": null,
      "outputs": [
        {
          "output_type": "execute_result",
          "data": {
            "text/plain": [
              "price_details      5\n",
              "Price              5\n",
              "Discount         333\n",
              "dtype: int64"
            ]
          },
          "metadata": {},
          "execution_count": 73
        }
      ]
    },
    {
      "cell_type": "markdown",
      "source": [
        "### Column \"camara_info\""
      ],
      "metadata": {
        "id": "etlMlWsqdmcJ"
      }
    },
    {
      "cell_type": "code",
      "source": [
        "data[[\"Back\", \"Front\"]]=data[\"camara_info\"].str.split(\"|\", expand = True)\n",
        "data[[\"camara_info\",\"Back\", \"Front\"]].head()"
      ],
      "metadata": {
        "colab": {
          "base_uri": "https://localhost:8080/",
          "height": 206
        },
        "id": "bWoz0Pm1doQi",
        "outputId": "a1d73574-ca99-4966-9991-2957ea548585"
      },
      "execution_count": null,
      "outputs": [
        {
          "output_type": "execute_result",
          "data": {
            "text/plain": [
              "                           camara_info                          Back  \\\n",
              "0  50MP + 5MP + 2MP | 8MP Front Camera             50MP + 5MP + 2MP    \n",
              "1  50MP + 5MP + 2MP | 8MP Front Camera             50MP + 5MP + 2MP    \n",
              "2         1200 mAh Lithium Ion Battery  1200 mAh Lithium Ion Battery   \n",
              "3  50MP + 5MP + 2MP | 8MP Front Camera             50MP + 5MP + 2MP    \n",
              "4  50MP + 5MP + 2MP | 8MP Front Camera             50MP + 5MP + 2MP    \n",
              "\n",
              "               Front  \n",
              "0   8MP Front Camera  \n",
              "1   8MP Front Camera  \n",
              "2               None  \n",
              "3   8MP Front Camera  \n",
              "4   8MP Front Camera  "
            ],
            "text/html": [
              "\n",
              "  <div id=\"df-5b332299-d4bc-4b52-82f5-14c9470c6584\">\n",
              "    <div class=\"colab-df-container\">\n",
              "      <div>\n",
              "<style scoped>\n",
              "    .dataframe tbody tr th:only-of-type {\n",
              "        vertical-align: middle;\n",
              "    }\n",
              "\n",
              "    .dataframe tbody tr th {\n",
              "        vertical-align: top;\n",
              "    }\n",
              "\n",
              "    .dataframe thead th {\n",
              "        text-align: right;\n",
              "    }\n",
              "</style>\n",
              "<table border=\"1\" class=\"dataframe\">\n",
              "  <thead>\n",
              "    <tr style=\"text-align: right;\">\n",
              "      <th></th>\n",
              "      <th>camara_info</th>\n",
              "      <th>Back</th>\n",
              "      <th>Front</th>\n",
              "    </tr>\n",
              "  </thead>\n",
              "  <tbody>\n",
              "    <tr>\n",
              "      <th>0</th>\n",
              "      <td>50MP + 5MP + 2MP | 8MP Front Camera</td>\n",
              "      <td>50MP + 5MP + 2MP</td>\n",
              "      <td>8MP Front Camera</td>\n",
              "    </tr>\n",
              "    <tr>\n",
              "      <th>1</th>\n",
              "      <td>50MP + 5MP + 2MP | 8MP Front Camera</td>\n",
              "      <td>50MP + 5MP + 2MP</td>\n",
              "      <td>8MP Front Camera</td>\n",
              "    </tr>\n",
              "    <tr>\n",
              "      <th>2</th>\n",
              "      <td>1200 mAh Lithium Ion Battery</td>\n",
              "      <td>1200 mAh Lithium Ion Battery</td>\n",
              "      <td>None</td>\n",
              "    </tr>\n",
              "    <tr>\n",
              "      <th>3</th>\n",
              "      <td>50MP + 5MP + 2MP | 8MP Front Camera</td>\n",
              "      <td>50MP + 5MP + 2MP</td>\n",
              "      <td>8MP Front Camera</td>\n",
              "    </tr>\n",
              "    <tr>\n",
              "      <th>4</th>\n",
              "      <td>50MP + 5MP + 2MP | 8MP Front Camera</td>\n",
              "      <td>50MP + 5MP + 2MP</td>\n",
              "      <td>8MP Front Camera</td>\n",
              "    </tr>\n",
              "  </tbody>\n",
              "</table>\n",
              "</div>\n",
              "      <button class=\"colab-df-convert\" onclick=\"convertToInteractive('df-5b332299-d4bc-4b52-82f5-14c9470c6584')\"\n",
              "              title=\"Convert this dataframe to an interactive table.\"\n",
              "              style=\"display:none;\">\n",
              "        \n",
              "  <svg xmlns=\"http://www.w3.org/2000/svg\" height=\"24px\"viewBox=\"0 0 24 24\"\n",
              "       width=\"24px\">\n",
              "    <path d=\"M0 0h24v24H0V0z\" fill=\"none\"/>\n",
              "    <path d=\"M18.56 5.44l.94 2.06.94-2.06 2.06-.94-2.06-.94-.94-2.06-.94 2.06-2.06.94zm-11 1L8.5 8.5l.94-2.06 2.06-.94-2.06-.94L8.5 2.5l-.94 2.06-2.06.94zm10 10l.94 2.06.94-2.06 2.06-.94-2.06-.94-.94-2.06-.94 2.06-2.06.94z\"/><path d=\"M17.41 7.96l-1.37-1.37c-.4-.4-.92-.59-1.43-.59-.52 0-1.04.2-1.43.59L10.3 9.45l-7.72 7.72c-.78.78-.78 2.05 0 2.83L4 21.41c.39.39.9.59 1.41.59.51 0 1.02-.2 1.41-.59l7.78-7.78 2.81-2.81c.8-.78.8-2.07 0-2.86zM5.41 20L4 18.59l7.72-7.72 1.47 1.35L5.41 20z\"/>\n",
              "  </svg>\n",
              "      </button>\n",
              "      \n",
              "  <style>\n",
              "    .colab-df-container {\n",
              "      display:flex;\n",
              "      flex-wrap:wrap;\n",
              "      gap: 12px;\n",
              "    }\n",
              "\n",
              "    .colab-df-convert {\n",
              "      background-color: #E8F0FE;\n",
              "      border: none;\n",
              "      border-radius: 50%;\n",
              "      cursor: pointer;\n",
              "      display: none;\n",
              "      fill: #1967D2;\n",
              "      height: 32px;\n",
              "      padding: 0 0 0 0;\n",
              "      width: 32px;\n",
              "    }\n",
              "\n",
              "    .colab-df-convert:hover {\n",
              "      background-color: #E2EBFA;\n",
              "      box-shadow: 0px 1px 2px rgba(60, 64, 67, 0.3), 0px 1px 3px 1px rgba(60, 64, 67, 0.15);\n",
              "      fill: #174EA6;\n",
              "    }\n",
              "\n",
              "    [theme=dark] .colab-df-convert {\n",
              "      background-color: #3B4455;\n",
              "      fill: #D2E3FC;\n",
              "    }\n",
              "\n",
              "    [theme=dark] .colab-df-convert:hover {\n",
              "      background-color: #434B5C;\n",
              "      box-shadow: 0px 1px 3px 1px rgba(0, 0, 0, 0.15);\n",
              "      filter: drop-shadow(0px 1px 2px rgba(0, 0, 0, 0.3));\n",
              "      fill: #FFFFFF;\n",
              "    }\n",
              "  </style>\n",
              "\n",
              "      <script>\n",
              "        const buttonEl =\n",
              "          document.querySelector('#df-5b332299-d4bc-4b52-82f5-14c9470c6584 button.colab-df-convert');\n",
              "        buttonEl.style.display =\n",
              "          google.colab.kernel.accessAllowed ? 'block' : 'none';\n",
              "\n",
              "        async function convertToInteractive(key) {\n",
              "          const element = document.querySelector('#df-5b332299-d4bc-4b52-82f5-14c9470c6584');\n",
              "          const dataTable =\n",
              "            await google.colab.kernel.invokeFunction('convertToInteractive',\n",
              "                                                     [key], {});\n",
              "          if (!dataTable) return;\n",
              "\n",
              "          const docLinkHtml = 'Like what you see? Visit the ' +\n",
              "            '<a target=\"_blank\" href=https://colab.research.google.com/notebooks/data_table.ipynb>data table notebook</a>'\n",
              "            + ' to learn more about interactive tables.';\n",
              "          element.innerHTML = '';\n",
              "          dataTable['output_type'] = 'display_data';\n",
              "          await google.colab.output.renderOutput(dataTable, element);\n",
              "          const docLink = document.createElement('div');\n",
              "          docLink.innerHTML = docLinkHtml;\n",
              "          element.appendChild(docLink);\n",
              "        }\n",
              "      </script>\n",
              "    </div>\n",
              "  </div>\n",
              "  "
            ]
          },
          "metadata": {},
          "execution_count": 32
        }
      ]
    },
    {
      "cell_type": "code",
      "source": [
        "# split Back into  4 columns \" Back Main\", \"Back2\",\"Back3\",\"Back4\" \n",
        "data[[\"Main Back\", \"Back2\", \"Back3\", \"Back4\"]]=data[\"Back\"].str.split(\"+\", expand = True)\n",
        "print(data[[\"Back\",\"Main Back\", \"Back2\", \"Back3\", \"Back4\"]].head())"
      ],
      "metadata": {
        "colab": {
          "base_uri": "https://localhost:8080/"
        },
        "id": "awpiwY5ldqdp",
        "outputId": "96bfcd67-04c3-48f5-d1fc-85850e300ad2"
      },
      "execution_count": null,
      "outputs": [
        {
          "output_type": "stream",
          "name": "stdout",
          "text": [
            "                           Back                     Main Back  Back2  Back3  \\\n",
            "0             50MP + 5MP + 2MP                          50MP    5MP    2MP    \n",
            "1             50MP + 5MP + 2MP                          50MP    5MP    2MP    \n",
            "2  1200 mAh Lithium Ion Battery  1200 mAh Lithium Ion Battery   None   None   \n",
            "3             50MP + 5MP + 2MP                          50MP    5MP    2MP    \n",
            "4             50MP + 5MP + 2MP                          50MP    5MP    2MP    \n",
            "\n",
            "  Back4  \n",
            "0  None  \n",
            "1  None  \n",
            "2  None  \n",
            "3  None  \n",
            "4  None  \n"
          ]
        }
      ]
    },
    {
      "cell_type": "code",
      "source": [
        "data[\"Main Back\"].unique()"
      ],
      "metadata": {
        "colab": {
          "base_uri": "https://localhost:8080/"
        },
        "id": "mj1J2XUVdt5h",
        "outputId": "c68b8897-183f-418c-d140-8b6774eba260"
      },
      "execution_count": null,
      "outputs": [
        {
          "output_type": "execute_result",
          "data": {
            "text/plain": [
              "array(['50MP ', '1200 mAh Lithium Ion Battery', '13Mp ',\n",
              "       '2MP Rear Camera', '13MP Rear Camera ', '13MP ', '64MP ', '12MP ',\n",
              "       '8MP Rear Camera ', nan, '0.3MP Rear Camera', '0MP Front Camera',\n",
              "       '48MP ', '108MP ', '50 MP ', '8MP Dual Camera ',\n",
              "       '13MP Rear Camera', '5MP Rear Camera', '800 mAh Battery',\n",
              "       '50MP Rear Camera', '1.3MP Rear Camera', '1000 mAh Battery',\n",
              "       '1MP Rear Camera', '50MP (OIS) ', '8 MP ', '12.2MP ',\n",
              "       '1750 mAh Battery', '64MP Rear Camera',\n",
              "       '800 mAh Lithium Ion Battery', '12MP Rear Camera',\n",
              "       '108MP Rear Camera', '0.08MP Rear Camera', '8MP Rear Camera',\n",
              "       '50MP Rear Camera ', '1020 mAh Lithium-ion Battery',\n",
              "       '620 mAh Battery', '64MP (OIS) ', '200MP ', '0MP ',\n",
              "       '0.8MP Rear Camera', '48MP Rear Camera', '8MP ',\n",
              "       '48MP Primary Camera ', '16MP ', '0.03MP Rear Camera',\n",
              "       '5MP Rear Camera ', '1000 mAh Li-Ion Battery',\n",
              "       '0.3MP Rear Camera ', '1800 mAh Battery', '16MP Rear Camera ',\n",
              "       '32MP Rear Camera', '300 mAh Battery'], dtype=object)"
            ]
          },
          "metadata": {},
          "execution_count": 34
        }
      ]
    },
    {
      "cell_type": "markdown",
      "source": [
        "We can see that our values are a mixture of battery, rear camera, and front camera, the next code is to put the data in the adequated column"
      ],
      "metadata": {
        "id": "WncKYKO5dwNo"
      }
    },
    {
      "cell_type": "code",
      "source": [
        "#Make uniform the column \"Main Back\"\n",
        "for i,row in enumerate(data[\"Main Back\"]):\n",
        "  if \"Rear\" in str(row):\n",
        "    data.loc[i,\"Rear\"]= \"Si\"\n",
        "  else:\n",
        "    data.loc[i,\"Rear\"]= \"No\"\n",
        "\n",
        "for i,row in enumerate(data[\"Main Back\"]):\n",
        "  if \"Battery\" in str(row):\n",
        "    data.loc[i,\"battery\"]= data.loc[i,\"Main Back\"]\n",
        "    data.loc[i,\"Main Back\"]=\"0\"\n",
        "\n",
        "for i,row in enumerate(data[\"Main Back\"]):\n",
        "  if \"Front\" in str(row):\n",
        "    data.loc[i,\"Front\"]= data.loc[i,\"Main Back\"]\n",
        "    data.loc[i,\"Main Back\"]=\"0\""
      ],
      "metadata": {
        "id": "O8GYcYHudyq8"
      },
      "execution_count": null,
      "outputs": []
    },
    {
      "cell_type": "code",
      "source": [
        "data[\"Main Back\"]=data[\"Main Back\"].str.strip()\n",
        "data[\"Main Back\"]=data[\"Main Back\"].str.replace(\"Rear Camera\",\"\")"
      ],
      "metadata": {
        "id": "8rd1A81Id3A5"
      },
      "execution_count": null,
      "outputs": []
    },
    {
      "cell_type": "markdown",
      "source": [
        "View  the values of \"Back2\""
      ],
      "metadata": {
        "id": "eLDcQQiYd40Q"
      }
    },
    {
      "cell_type": "code",
      "source": [
        "data[\"Back2\"].unique()"
      ],
      "metadata": {
        "colab": {
          "base_uri": "https://localhost:8080/"
        },
        "id": "lt7vtjpvd6Xl",
        "outputId": "a67fa690-dde8-4ee6-e6fb-45e32bdf83ab"
      },
      "execution_count": null,
      "outputs": [
        {
          "output_type": "execute_result",
          "data": {
            "text/plain": [
              "array([' 5MP ', None, ' AI Lens ', ' 2MP ', ' 8MP ', ' 12MP ', nan,\n",
              "       ' 0.3MP ', ' 2 MP Depth Lens ', ' 2 MP ', ' 2MP (Depth) ',\n",
              "       ' Depth Lens ', ' 50MP ', ' 2MP Depth Sensor ', ' 13MP ',\n",
              "       ' 2MP Depth ', ' 2MP Depth Lens ', ' 10MP ', ' 48MP ',\n",
              "       ' Depth Sensor ', ' 2MP Macro Lens ', ' 2MP', ' Digital Camera '],\n",
              "      dtype=object)"
            ]
          },
          "metadata": {},
          "execution_count": 36
        }
      ]
    },
    {
      "cell_type": "code",
      "source": [
        "for i,row in enumerate(data[\"Back2\"]):\n",
        "  if \"None\" in str(row):\n",
        "    data.loc[i,\"Back2\"]= \"0\"\n",
        "data[\"Back2\"].unique()"
      ],
      "metadata": {
        "colab": {
          "base_uri": "https://localhost:8080/"
        },
        "id": "11X0Ad2Rd8lR",
        "outputId": "d0932474-d79a-4ac4-f460-386d81eeef5c"
      },
      "execution_count": null,
      "outputs": [
        {
          "output_type": "execute_result",
          "data": {
            "text/plain": [
              "array([' 5MP ', '0', ' AI Lens ', ' 2MP ', ' 8MP ', ' 12MP ', nan,\n",
              "       ' 0.3MP ', ' 2 MP Depth Lens ', ' 2 MP ', ' 2MP (Depth) ',\n",
              "       ' Depth Lens ', ' 50MP ', ' 2MP Depth Sensor ', ' 13MP ',\n",
              "       ' 2MP Depth ', ' 2MP Depth Lens ', ' 10MP ', ' 48MP ',\n",
              "       ' Depth Sensor ', ' 2MP Macro Lens ', ' 2MP', ' Digital Camera '],\n",
              "      dtype=object)"
            ]
          },
          "metadata": {},
          "execution_count": 37
        }
      ]
    },
    {
      "cell_type": "markdown",
      "source": [
        "View  the values of \"Back3\""
      ],
      "metadata": {
        "id": "G3iB4MvmeDdo"
      }
    },
    {
      "cell_type": "code",
      "source": [
        "data[\"Back3\"].unique()"
      ],
      "metadata": {
        "colab": {
          "base_uri": "https://localhost:8080/"
        },
        "id": "mjgaYItFeEzB",
        "outputId": "0bc09950-9be0-43b7-bfea-662dd86d5ef9"
      },
      "execution_count": null,
      "outputs": [
        {
          "output_type": "execute_result",
          "data": {
            "text/plain": [
              "array([' 2MP ', None, nan, ' 0.3MP ', ' AI Lens ', ' QVGA ', ' 16MP ',\n",
              "       ' 2MP (Macro) ', ' 2MP Macro Sensor ', ' 5MP ', ' 8MP (OIS) ',\n",
              "       ' AI lens ', ' 12MP ', ' 2MP Depth Sensor ', ' 10MP ',\n",
              "       ' 2 MP Macro Lens '], dtype=object)"
            ]
          },
          "metadata": {},
          "execution_count": 38
        }
      ]
    },
    {
      "cell_type": "code",
      "source": [
        "for i,row in enumerate(data[\"Back3\"]):\n",
        "  if \"None\" in str(row):\n",
        "    data.loc[i,\"Back3\"]= \"0\"\n",
        "data[\"Back3\"].unique()"
      ],
      "metadata": {
        "colab": {
          "base_uri": "https://localhost:8080/"
        },
        "id": "U-lAx8MueHdJ",
        "outputId": "294249c7-4bea-4762-ed1b-272d88642ee6"
      },
      "execution_count": null,
      "outputs": [
        {
          "output_type": "execute_result",
          "data": {
            "text/plain": [
              "array([' 2MP ', '0', nan, ' 0.3MP ', ' AI Lens ', ' QVGA ', ' 16MP ',\n",
              "       ' 2MP (Macro) ', ' 2MP Macro Sensor ', ' 5MP ', ' 8MP (OIS) ',\n",
              "       ' AI lens ', ' 12MP ', ' 2MP Depth Sensor ', ' 10MP ',\n",
              "       ' 2 MP Macro Lens '], dtype=object)"
            ]
          },
          "metadata": {},
          "execution_count": 39
        }
      ]
    },
    {
      "cell_type": "markdown",
      "source": [
        "View the values of \"Back4\""
      ],
      "metadata": {
        "id": "6xulgedFeKn4"
      }
    },
    {
      "cell_type": "code",
      "source": [
        "data[\"Back4\"].unique()"
      ],
      "metadata": {
        "colab": {
          "base_uri": "https://localhost:8080/"
        },
        "id": "H6S6Fnt0eMDe",
        "outputId": "ff03361c-af01-4bea-ee0a-f547226a28c5"
      },
      "execution_count": null,
      "outputs": [
        {
          "output_type": "execute_result",
          "data": {
            "text/plain": [
              "array([None, nan, ' 2MP ', ' 5MP ', ' 12MP '], dtype=object)"
            ]
          },
          "metadata": {},
          "execution_count": 40
        }
      ]
    },
    {
      "cell_type": "code",
      "source": [
        "for i,row in enumerate(data[\"Back4\"]):\n",
        "  if \"None\" in str(row):\n",
        "    data.loc[i,\"Back4\"]= \"0\"\n",
        "data[\"Back4\"].unique()"
      ],
      "metadata": {
        "colab": {
          "base_uri": "https://localhost:8080/"
        },
        "id": "sWNfJ_o_eOXB",
        "outputId": "6ac8649c-e899-4ae1-bab9-f9e263c00603"
      },
      "execution_count": null,
      "outputs": [
        {
          "output_type": "execute_result",
          "data": {
            "text/plain": [
              "array(['0', nan, ' 2MP ', ' 5MP ', ' 12MP '], dtype=object)"
            ]
          },
          "metadata": {},
          "execution_count": 41
        }
      ]
    },
    {
      "cell_type": "markdown",
      "source": [
        "Make uniforme Column \"Front\""
      ],
      "metadata": {
        "id": "yfLgPtMZeQny"
      }
    },
    {
      "cell_type": "code",
      "source": [
        "data[\"Front\"]=data[\"Front\"].str.replace(\"Front Camera\",\"\")\n",
        "data[\"Front\"]=data[\"Front\"].str.strip()\n",
        "\n",
        "data[\"Front\"].unique()"
      ],
      "metadata": {
        "colab": {
          "base_uri": "https://localhost:8080/"
        },
        "id": "rmhE37aPeR5V",
        "outputId": "02f26629-c4fe-41fa-ef62-97e1dfd4fe62"
      },
      "execution_count": null,
      "outputs": [
        {
          "output_type": "execute_result",
          "data": {
            "text/plain": [
              "array(['8MP', None, '5MP', '16MP', '12MP', nan, '13MP', '0MP', '32MP',\n",
              "       '60 MP with OIS', '44MP', '16MP + 2MP Dual', '20MP', '60MP',\n",
              "       '10.8MP', '32MP + 2MP Dual', '2MP', '10MP', '16MP + 16MP Dual',\n",
              "       '50MP + 8MP Dual', '0.3MP'], dtype=object)"
            ]
          },
          "metadata": {},
          "execution_count": 42
        }
      ]
    },
    {
      "cell_type": "code",
      "source": [
        "for i,row in enumerate(data[\"Front\"]):\n",
        "  if \"None\" in str(row):\n",
        "    data.loc[i,\"Front\"]= \"0\"\n",
        "data[\"Front\"].unique()"
      ],
      "metadata": {
        "colab": {
          "base_uri": "https://localhost:8080/"
        },
        "id": "gtKYEp14eUYV",
        "outputId": "da617b1f-5d19-4c1a-b53c-ad666fd7fa5e"
      },
      "execution_count": null,
      "outputs": [
        {
          "output_type": "execute_result",
          "data": {
            "text/plain": [
              "array(['8MP', '0', '5MP', '16MP', '12MP', nan, '13MP', '0MP', '32MP',\n",
              "       '60 MP with OIS', '44MP', '16MP + 2MP Dual', '20MP', '60MP',\n",
              "       '10.8MP', '32MP + 2MP Dual', '2MP', '10MP', '16MP + 16MP Dual',\n",
              "       '50MP + 8MP Dual', '0.3MP'], dtype=object)"
            ]
          },
          "metadata": {},
          "execution_count": 43
        }
      ]
    },
    {
      "cell_type": "code",
      "source": [
        "#eliminate the column \"Back\"\n",
        "data.drop([\"Back\"], axis=1 , inplace =True)"
      ],
      "metadata": {
        "id": "uTjTsj43eWXK"
      },
      "execution_count": null,
      "outputs": []
    },
    {
      "cell_type": "markdown",
      "source": [
        "Final result from column \"camara_info\""
      ],
      "metadata": {
        "id": "1kdUQKvCeY7y"
      }
    },
    {
      "cell_type": "code",
      "source": [
        "data[[\"camara_info\",\"Main Back\", \"Back2\", \"Back3\", \"Back4\",\"Front\", \"Rear\"]].head()"
      ],
      "metadata": {
        "colab": {
          "base_uri": "https://localhost:8080/",
          "height": 206
        },
        "id": "ZRkBmdbpebCC",
        "outputId": "6fb6ec87-4d7e-4b58-ed70-8884d4e3db68"
      },
      "execution_count": null,
      "outputs": [
        {
          "output_type": "execute_result",
          "data": {
            "text/plain": [
              "                           camara_info Main Back  Back2  Back3 Back4 Front  \\\n",
              "0  50MP + 5MP + 2MP | 8MP Front Camera     50MP    5MP    2MP      0   8MP   \n",
              "1  50MP + 5MP + 2MP | 8MP Front Camera     50MP    5MP    2MP      0   8MP   \n",
              "2         1200 mAh Lithium Ion Battery         0      0      0     0     0   \n",
              "3  50MP + 5MP + 2MP | 8MP Front Camera     50MP    5MP    2MP      0   8MP   \n",
              "4  50MP + 5MP + 2MP | 8MP Front Camera     50MP    5MP    2MP      0   8MP   \n",
              "\n",
              "  Rear  \n",
              "0   No  \n",
              "1   No  \n",
              "2   No  \n",
              "3   No  \n",
              "4   No  "
            ],
            "text/html": [
              "\n",
              "  <div id=\"df-71a6d309-1e48-4fe0-8729-679d2a990cf8\">\n",
              "    <div class=\"colab-df-container\">\n",
              "      <div>\n",
              "<style scoped>\n",
              "    .dataframe tbody tr th:only-of-type {\n",
              "        vertical-align: middle;\n",
              "    }\n",
              "\n",
              "    .dataframe tbody tr th {\n",
              "        vertical-align: top;\n",
              "    }\n",
              "\n",
              "    .dataframe thead th {\n",
              "        text-align: right;\n",
              "    }\n",
              "</style>\n",
              "<table border=\"1\" class=\"dataframe\">\n",
              "  <thead>\n",
              "    <tr style=\"text-align: right;\">\n",
              "      <th></th>\n",
              "      <th>camara_info</th>\n",
              "      <th>Main Back</th>\n",
              "      <th>Back2</th>\n",
              "      <th>Back3</th>\n",
              "      <th>Back4</th>\n",
              "      <th>Front</th>\n",
              "      <th>Rear</th>\n",
              "    </tr>\n",
              "  </thead>\n",
              "  <tbody>\n",
              "    <tr>\n",
              "      <th>0</th>\n",
              "      <td>50MP + 5MP + 2MP | 8MP Front Camera</td>\n",
              "      <td>50MP</td>\n",
              "      <td>5MP</td>\n",
              "      <td>2MP</td>\n",
              "      <td>0</td>\n",
              "      <td>8MP</td>\n",
              "      <td>No</td>\n",
              "    </tr>\n",
              "    <tr>\n",
              "      <th>1</th>\n",
              "      <td>50MP + 5MP + 2MP | 8MP Front Camera</td>\n",
              "      <td>50MP</td>\n",
              "      <td>5MP</td>\n",
              "      <td>2MP</td>\n",
              "      <td>0</td>\n",
              "      <td>8MP</td>\n",
              "      <td>No</td>\n",
              "    </tr>\n",
              "    <tr>\n",
              "      <th>2</th>\n",
              "      <td>1200 mAh Lithium Ion Battery</td>\n",
              "      <td>0</td>\n",
              "      <td>0</td>\n",
              "      <td>0</td>\n",
              "      <td>0</td>\n",
              "      <td>0</td>\n",
              "      <td>No</td>\n",
              "    </tr>\n",
              "    <tr>\n",
              "      <th>3</th>\n",
              "      <td>50MP + 5MP + 2MP | 8MP Front Camera</td>\n",
              "      <td>50MP</td>\n",
              "      <td>5MP</td>\n",
              "      <td>2MP</td>\n",
              "      <td>0</td>\n",
              "      <td>8MP</td>\n",
              "      <td>No</td>\n",
              "    </tr>\n",
              "    <tr>\n",
              "      <th>4</th>\n",
              "      <td>50MP + 5MP + 2MP | 8MP Front Camera</td>\n",
              "      <td>50MP</td>\n",
              "      <td>5MP</td>\n",
              "      <td>2MP</td>\n",
              "      <td>0</td>\n",
              "      <td>8MP</td>\n",
              "      <td>No</td>\n",
              "    </tr>\n",
              "  </tbody>\n",
              "</table>\n",
              "</div>\n",
              "      <button class=\"colab-df-convert\" onclick=\"convertToInteractive('df-71a6d309-1e48-4fe0-8729-679d2a990cf8')\"\n",
              "              title=\"Convert this dataframe to an interactive table.\"\n",
              "              style=\"display:none;\">\n",
              "        \n",
              "  <svg xmlns=\"http://www.w3.org/2000/svg\" height=\"24px\"viewBox=\"0 0 24 24\"\n",
              "       width=\"24px\">\n",
              "    <path d=\"M0 0h24v24H0V0z\" fill=\"none\"/>\n",
              "    <path d=\"M18.56 5.44l.94 2.06.94-2.06 2.06-.94-2.06-.94-.94-2.06-.94 2.06-2.06.94zm-11 1L8.5 8.5l.94-2.06 2.06-.94-2.06-.94L8.5 2.5l-.94 2.06-2.06.94zm10 10l.94 2.06.94-2.06 2.06-.94-2.06-.94-.94-2.06-.94 2.06-2.06.94z\"/><path d=\"M17.41 7.96l-1.37-1.37c-.4-.4-.92-.59-1.43-.59-.52 0-1.04.2-1.43.59L10.3 9.45l-7.72 7.72c-.78.78-.78 2.05 0 2.83L4 21.41c.39.39.9.59 1.41.59.51 0 1.02-.2 1.41-.59l7.78-7.78 2.81-2.81c.8-.78.8-2.07 0-2.86zM5.41 20L4 18.59l7.72-7.72 1.47 1.35L5.41 20z\"/>\n",
              "  </svg>\n",
              "      </button>\n",
              "      \n",
              "  <style>\n",
              "    .colab-df-container {\n",
              "      display:flex;\n",
              "      flex-wrap:wrap;\n",
              "      gap: 12px;\n",
              "    }\n",
              "\n",
              "    .colab-df-convert {\n",
              "      background-color: #E8F0FE;\n",
              "      border: none;\n",
              "      border-radius: 50%;\n",
              "      cursor: pointer;\n",
              "      display: none;\n",
              "      fill: #1967D2;\n",
              "      height: 32px;\n",
              "      padding: 0 0 0 0;\n",
              "      width: 32px;\n",
              "    }\n",
              "\n",
              "    .colab-df-convert:hover {\n",
              "      background-color: #E2EBFA;\n",
              "      box-shadow: 0px 1px 2px rgba(60, 64, 67, 0.3), 0px 1px 3px 1px rgba(60, 64, 67, 0.15);\n",
              "      fill: #174EA6;\n",
              "    }\n",
              "\n",
              "    [theme=dark] .colab-df-convert {\n",
              "      background-color: #3B4455;\n",
              "      fill: #D2E3FC;\n",
              "    }\n",
              "\n",
              "    [theme=dark] .colab-df-convert:hover {\n",
              "      background-color: #434B5C;\n",
              "      box-shadow: 0px 1px 3px 1px rgba(0, 0, 0, 0.15);\n",
              "      filter: drop-shadow(0px 1px 2px rgba(0, 0, 0, 0.3));\n",
              "      fill: #FFFFFF;\n",
              "    }\n",
              "  </style>\n",
              "\n",
              "      <script>\n",
              "        const buttonEl =\n",
              "          document.querySelector('#df-71a6d309-1e48-4fe0-8729-679d2a990cf8 button.colab-df-convert');\n",
              "        buttonEl.style.display =\n",
              "          google.colab.kernel.accessAllowed ? 'block' : 'none';\n",
              "\n",
              "        async function convertToInteractive(key) {\n",
              "          const element = document.querySelector('#df-71a6d309-1e48-4fe0-8729-679d2a990cf8');\n",
              "          const dataTable =\n",
              "            await google.colab.kernel.invokeFunction('convertToInteractive',\n",
              "                                                     [key], {});\n",
              "          if (!dataTable) return;\n",
              "\n",
              "          const docLinkHtml = 'Like what you see? Visit the ' +\n",
              "            '<a target=\"_blank\" href=https://colab.research.google.com/notebooks/data_table.ipynb>data table notebook</a>'\n",
              "            + ' to learn more about interactive tables.';\n",
              "          element.innerHTML = '';\n",
              "          dataTable['output_type'] = 'display_data';\n",
              "          await google.colab.output.renderOutput(dataTable, element);\n",
              "          const docLink = document.createElement('div');\n",
              "          docLink.innerHTML = docLinkHtml;\n",
              "          element.appendChild(docLink);\n",
              "        }\n",
              "      </script>\n",
              "    </div>\n",
              "  </div>\n",
              "  "
            ]
          },
          "metadata": {},
          "execution_count": 45
        }
      ]
    },
    {
      "cell_type": "markdown",
      "source": [
        "### Column \"display\""
      ],
      "metadata": {
        "id": "De_iFTwPeffD"
      }
    },
    {
      "cell_type": "code",
      "source": [
        "data[[\"Inch\", \"Display\"]] = data[\"display\"].str.split(\")\", expand = True)\n",
        "\n",
        "for i, row in  enumerate(data.Inch):\n",
        "  if \"nch\" in str(row):\n",
        "   data.loc[i, \"Inch\"]=data.loc[i, \"Inch\"].split(\"(\")[1]"
      ],
      "metadata": {
        "id": "-Bpuh4loehtA"
      },
      "execution_count": null,
      "outputs": []
    },
    {
      "cell_type": "code",
      "source": [
        "data['Inch'] = data['Inch'].str.replace('inch', '')\n",
        "data['Inch'] = data['Inch'].str.replace('Inch', '')\n",
        "data['Inch'] = data['Inch'].str.strip()\n",
        "\n",
        "data.Inch.unique()"
      ],
      "metadata": {
        "colab": {
          "base_uri": "https://localhost:8080/"
        },
        "id": "k-fPXKAKej0A",
        "outputId": "4e257d6e-14a9-40af-c818-e66916de90ee"
      },
      "execution_count": null,
      "outputs": [
        {
          "output_type": "execute_result",
          "data": {
            "text/plain": [
              "array(['6.6', '1.8', '6.82', '6.53', '6.55', '6.7', '6.43', '6.1', '6.5',\n",
              "       nan, '6.4', '2.8', '1.77', '6.44', '6.56', '6.58', '6.52', '6.47',\n",
              "       '6.72', '2', '6.67', '2.4', '1.5', '6.59', '6.14', '6.51', '1.44',\n",
              "       '6.62', '6.26', '6.38', '6.78', '6.8', '1.4', '2.6', '6.9', '6.3',\n",
              "       '6.57', '0.66', '5.45', '5', '6.517', '2MP Rear Camera', '6.515',\n",
              "       '7', '6.68', '4', '6.22', '6.95', '6.088', '5.4', '6.08'],\n",
              "      dtype=object)"
            ]
          },
          "metadata": {},
          "execution_count": 47
        }
      ]
    },
    {
      "cell_type": "code",
      "source": [
        "data[\"Display\"] = data[\"Display\"].str.replace(\"+\",\"\")\n",
        "data[\"Display\"] = data[\"Display\"].str.replace(\"Display\",\"\") \n",
        "data[\"Inch\"]= data[\"Inch\"].str.strip()"
      ],
      "metadata": {
        "colab": {
          "base_uri": "https://localhost:8080/"
        },
        "id": "uu6kWQhRemcD",
        "outputId": "ad0d784d-67c4-4a36-e3bf-24e8c0001206"
      },
      "execution_count": null,
      "outputs": [
        {
          "output_type": "stream",
          "name": "stderr",
          "text": [
            "<ipython-input-86-24ec4a59dd78>:1: FutureWarning: The default value of regex will change from True to False in a future version. In addition, single character regular expressions will *not* be treated as literal strings when regex=True.\n",
            "  data[\"Display\"] = data[\"Display\"].str.replace(\"+\",\"\")\n"
          ]
        }
      ]
    },
    {
      "cell_type": "code",
      "source": [
        "data[[\"display\", \"Inch\", \"Display\"]].head(5)"
      ],
      "metadata": {
        "colab": {
          "base_uri": "https://localhost:8080/",
          "height": 206
        },
        "id": "6RHrIkIDepNJ",
        "outputId": "def0c522-4ea4-4335-e5d1-5a4cc350ca66"
      },
      "execution_count": null,
      "outputs": [
        {
          "output_type": "execute_result",
          "data": {
            "text/plain": [
              "                                   display Inch         Display\n",
              "0     16.76 cm (6.6 inch) Full HD+ Display  6.6        Full HD \n",
              "1     16.76 cm (6.6 inch) Full HD+ Display  6.6        Full HD \n",
              "2  4.57 cm (1.8 inch) Quarter QVGA Display  1.8   Quarter QVGA \n",
              "3     16.76 cm (6.6 inch) Full HD+ Display  6.6        Full HD \n",
              "4     16.76 cm (6.6 inch) Full HD+ Display  6.6        Full HD "
            ],
            "text/html": [
              "\n",
              "  <div id=\"df-42c89f4e-fa24-4133-a1c9-c129b69d4133\">\n",
              "    <div class=\"colab-df-container\">\n",
              "      <div>\n",
              "<style scoped>\n",
              "    .dataframe tbody tr th:only-of-type {\n",
              "        vertical-align: middle;\n",
              "    }\n",
              "\n",
              "    .dataframe tbody tr th {\n",
              "        vertical-align: top;\n",
              "    }\n",
              "\n",
              "    .dataframe thead th {\n",
              "        text-align: right;\n",
              "    }\n",
              "</style>\n",
              "<table border=\"1\" class=\"dataframe\">\n",
              "  <thead>\n",
              "    <tr style=\"text-align: right;\">\n",
              "      <th></th>\n",
              "      <th>display</th>\n",
              "      <th>Inch</th>\n",
              "      <th>Display</th>\n",
              "    </tr>\n",
              "  </thead>\n",
              "  <tbody>\n",
              "    <tr>\n",
              "      <th>0</th>\n",
              "      <td>16.76 cm (6.6 inch) Full HD+ Display</td>\n",
              "      <td>6.6</td>\n",
              "      <td>Full HD</td>\n",
              "    </tr>\n",
              "    <tr>\n",
              "      <th>1</th>\n",
              "      <td>16.76 cm (6.6 inch) Full HD+ Display</td>\n",
              "      <td>6.6</td>\n",
              "      <td>Full HD</td>\n",
              "    </tr>\n",
              "    <tr>\n",
              "      <th>2</th>\n",
              "      <td>4.57 cm (1.8 inch) Quarter QVGA Display</td>\n",
              "      <td>1.8</td>\n",
              "      <td>Quarter QVGA</td>\n",
              "    </tr>\n",
              "    <tr>\n",
              "      <th>3</th>\n",
              "      <td>16.76 cm (6.6 inch) Full HD+ Display</td>\n",
              "      <td>6.6</td>\n",
              "      <td>Full HD</td>\n",
              "    </tr>\n",
              "    <tr>\n",
              "      <th>4</th>\n",
              "      <td>16.76 cm (6.6 inch) Full HD+ Display</td>\n",
              "      <td>6.6</td>\n",
              "      <td>Full HD</td>\n",
              "    </tr>\n",
              "  </tbody>\n",
              "</table>\n",
              "</div>\n",
              "      <button class=\"colab-df-convert\" onclick=\"convertToInteractive('df-42c89f4e-fa24-4133-a1c9-c129b69d4133')\"\n",
              "              title=\"Convert this dataframe to an interactive table.\"\n",
              "              style=\"display:none;\">\n",
              "        \n",
              "  <svg xmlns=\"http://www.w3.org/2000/svg\" height=\"24px\"viewBox=\"0 0 24 24\"\n",
              "       width=\"24px\">\n",
              "    <path d=\"M0 0h24v24H0V0z\" fill=\"none\"/>\n",
              "    <path d=\"M18.56 5.44l.94 2.06.94-2.06 2.06-.94-2.06-.94-.94-2.06-.94 2.06-2.06.94zm-11 1L8.5 8.5l.94-2.06 2.06-.94-2.06-.94L8.5 2.5l-.94 2.06-2.06.94zm10 10l.94 2.06.94-2.06 2.06-.94-2.06-.94-.94-2.06-.94 2.06-2.06.94z\"/><path d=\"M17.41 7.96l-1.37-1.37c-.4-.4-.92-.59-1.43-.59-.52 0-1.04.2-1.43.59L10.3 9.45l-7.72 7.72c-.78.78-.78 2.05 0 2.83L4 21.41c.39.39.9.59 1.41.59.51 0 1.02-.2 1.41-.59l7.78-7.78 2.81-2.81c.8-.78.8-2.07 0-2.86zM5.41 20L4 18.59l7.72-7.72 1.47 1.35L5.41 20z\"/>\n",
              "  </svg>\n",
              "      </button>\n",
              "      \n",
              "  <style>\n",
              "    .colab-df-container {\n",
              "      display:flex;\n",
              "      flex-wrap:wrap;\n",
              "      gap: 12px;\n",
              "    }\n",
              "\n",
              "    .colab-df-convert {\n",
              "      background-color: #E8F0FE;\n",
              "      border: none;\n",
              "      border-radius: 50%;\n",
              "      cursor: pointer;\n",
              "      display: none;\n",
              "      fill: #1967D2;\n",
              "      height: 32px;\n",
              "      padding: 0 0 0 0;\n",
              "      width: 32px;\n",
              "    }\n",
              "\n",
              "    .colab-df-convert:hover {\n",
              "      background-color: #E2EBFA;\n",
              "      box-shadow: 0px 1px 2px rgba(60, 64, 67, 0.3), 0px 1px 3px 1px rgba(60, 64, 67, 0.15);\n",
              "      fill: #174EA6;\n",
              "    }\n",
              "\n",
              "    [theme=dark] .colab-df-convert {\n",
              "      background-color: #3B4455;\n",
              "      fill: #D2E3FC;\n",
              "    }\n",
              "\n",
              "    [theme=dark] .colab-df-convert:hover {\n",
              "      background-color: #434B5C;\n",
              "      box-shadow: 0px 1px 3px 1px rgba(0, 0, 0, 0.15);\n",
              "      filter: drop-shadow(0px 1px 2px rgba(0, 0, 0, 0.3));\n",
              "      fill: #FFFFFF;\n",
              "    }\n",
              "  </style>\n",
              "\n",
              "      <script>\n",
              "        const buttonEl =\n",
              "          document.querySelector('#df-42c89f4e-fa24-4133-a1c9-c129b69d4133 button.colab-df-convert');\n",
              "        buttonEl.style.display =\n",
              "          google.colab.kernel.accessAllowed ? 'block' : 'none';\n",
              "\n",
              "        async function convertToInteractive(key) {\n",
              "          const element = document.querySelector('#df-42c89f4e-fa24-4133-a1c9-c129b69d4133');\n",
              "          const dataTable =\n",
              "            await google.colab.kernel.invokeFunction('convertToInteractive',\n",
              "                                                     [key], {});\n",
              "          if (!dataTable) return;\n",
              "\n",
              "          const docLinkHtml = 'Like what you see? Visit the ' +\n",
              "            '<a target=\"_blank\" href=https://colab.research.google.com/notebooks/data_table.ipynb>data table notebook</a>'\n",
              "            + ' to learn more about interactive tables.';\n",
              "          element.innerHTML = '';\n",
              "          dataTable['output_type'] = 'display_data';\n",
              "          await google.colab.output.renderOutput(dataTable, element);\n",
              "          const docLink = document.createElement('div');\n",
              "          docLink.innerHTML = docLinkHtml;\n",
              "          element.appendChild(docLink);\n",
              "        }\n",
              "      </script>\n",
              "    </div>\n",
              "  </div>\n",
              "  "
            ]
          },
          "metadata": {},
          "execution_count": 87
        }
      ]
    },
    {
      "cell_type": "code",
      "source": [
        "data[[\"display\", \"Inch\", \"Display\"]].isnull().sum()"
      ],
      "metadata": {
        "colab": {
          "base_uri": "https://localhost:8080/"
        },
        "id": "y6rkqS2qetGR",
        "outputId": "5b8ea1cb-4894-451a-fcd1-39f7c45e45bb"
      },
      "execution_count": null,
      "outputs": [
        {
          "output_type": "execute_result",
          "data": {
            "text/plain": [
              "display    205\n",
              "Inch       205\n",
              "Display    206\n",
              "dtype: int64"
            ]
          },
          "metadata": {},
          "execution_count": 50
        }
      ]
    },
    {
      "cell_type": "markdown",
      "source": [
        "### Column \"battery\""
      ],
      "metadata": {
        "id": "C2iOE0I4ewGR"
      }
    },
    {
      "cell_type": "code",
      "source": [
        "data[[\"Capacity(mAh)\",\"Compound\"]] = data[\"battery\"].str.split(\"mAh\", expand = True)\n",
        "data[\"Capacity(mAh)\"].unique()"
      ],
      "metadata": {
        "colab": {
          "base_uri": "https://localhost:8080/"
        },
        "id": "E26gpFIRevbA",
        "outputId": "79f130c5-57ce-441b-8afa-134caea64117"
      },
      "execution_count": null,
      "outputs": [
        {
          "output_type": "execute_result",
          "data": {
            "text/plain": [
              "array(['6000 ', '1200 ', '1000 ', '5000 ',\n",
              "       'A15 Bionic Chip, 6 Core Processor Processor', nan,\n",
              "       'A13 Bionic Chip Processor', '2500 ', '800 ', '4800 ', '4000 ',\n",
              "       'A14 Bionic Chip with Next Generation Neural Engine Processor',\n",
              "       '1020 ', '1750 ', 'A15 Bionic Chip Processor', '2575 ', '4410 ',\n",
              "       '4700 ', '4020 ', '850 ', '4500 ', '1500 ', '5020 ', '1700 ',\n",
              "       '1450 ', '4050 ', '3000 ', '4310 ', '620 ', '3900 ', '400 ',\n",
              "       '4980 ', '1800 ', '600 ', '4926 ', '7000 ', '2502 ', '4400 ',\n",
              "       'A16 Bionic Chip, 6 Core Processor Processor', '4270 ', '1900 ',\n",
              "       '5050 ', '4610 ', '3020 ', '5200 ', '3700 ', '2700 ', '3300 ',\n",
              "       '4230 ', '4250 ', '1100 ', '1600 ', '300 ', '5080 ', '4200 ',\n",
              "       '1150 ', '700 ', '2750 ', '4060 '], dtype=object)"
            ]
          },
          "metadata": {},
          "execution_count": 51
        }
      ]
    },
    {
      "cell_type": "code",
      "source": [
        "data.loc[data[\"Capacity(mAh)\"]==\"7 Days Battery Backup with 1200\",[\"Capacity(mAh)\"]]\n",
        "data['Capacity(mAh)'] = data['Capacity(mAh)'].str.replace(\"7 Days Battery Backup with \", '')"
      ],
      "metadata": {
        "id": "AQ6fMIJYe0EL"
      },
      "execution_count": null,
      "outputs": []
    },
    {
      "cell_type": "markdown",
      "source": [
        "### Column \"processor\""
      ],
      "metadata": {
        "id": "yNcEG40gg4GI"
      }
    },
    {
      "cell_type": "code",
      "source": [
        "for i, row in enumerate(data[\"processor\"]):\n",
        "  if \"Processor\" in str(row):\n",
        "     data.loc[i,\"processor\"]= row\n",
        "  else:\n",
        "    data.loc[i,\"processor\"]= \"No Define\"\n",
        "data[\"processor\"]=data[\"processor\"].str.replace(\" Processor\", \"\")\n",
        "data.processor.head(50)"
      ],
      "metadata": {
        "colab": {
          "base_uri": "https://localhost:8080/"
        },
        "id": "fbu9sovkhTEi",
        "outputId": "bf36aaa4-317b-4574-8c01-29eca7bdb4db"
      },
      "execution_count": null,
      "outputs": [
        {
          "output_type": "execute_result",
          "data": {
            "text/plain": [
              "0                     Exynos 850\n",
              "1                     Exynos 850\n",
              "2                      No Define\n",
              "3                     Exynos 850\n",
              "4                     Exynos 850\n",
              "5                   MediaTek G37\n",
              "6                      No Define\n",
              "7                   MediaTek G37\n",
              "8                   MediaTek G37\n",
              "9                   MediaTek G37\n",
              "10            MediaTek Helio G25\n",
              "11            MediaTek Helio G35\n",
              "12    Qualcomm Snapdragon 695 5G\n",
              "13       Qualcomm Snapdragon 680\n",
              "14       Qualcomm Snapdragon 680\n",
              "15            Mediatek Helio G96\n",
              "16                     No Define\n",
              "17                  MediaTek G35\n",
              "18            Mediatek Helio G96\n",
              "19       Qualcomm Snapdragon 680\n",
              "20            Mediatek Helio A22\n",
              "21            Mediatek Helio A22\n",
              "22                   Unisoc T606\n",
              "23                     No Define\n",
              "24                     No Define\n",
              "25                     No Define\n",
              "26                     No Define\n",
              "27                     No Define\n",
              "28            Mediatek Helio A22\n",
              "29            Mediatek Helio G85\n",
              "30                     No Define\n",
              "31            Mediatek Helio P35\n",
              "32      Qualcomm Snapdragon 750G\n",
              "33                     No Define\n",
              "34                       SC6531C\n",
              "35             Unisoc Tiger T616\n",
              "36                       SC6531E\n",
              "37            Mediatek Helio P35\n",
              "38                     No Define\n",
              "39       Qualcomm Snapdragon 680\n",
              "40            MediaTek Helio G35\n",
              "41            Mediatek Helio G85\n",
              "42                     No Define\n",
              "43                     No Define\n",
              "44    Qualcomm Snapdragon 695 5G\n",
              "45      Qualcomm Snapdragon 750G\n",
              "46             Unisoc Tiger T616\n",
              "47                   Unisoc T606\n",
              "48        Mediatek Dimensity 810\n",
              "49    Qualcomm Snapdragon 695 5G\n",
              "Name: processor, dtype: object"
            ]
          },
          "metadata": {},
          "execution_count": 20
        }
      ]
    },
    {
      "cell_type": "markdown",
      "source": [
        "## 3.2  \"Clean Data\"\n",
        "\n",
        "For this notebook, we will work with this columns\n",
        "\n",
        "['Name','stars', 'Color', 'Price','Rating', 'Reviews', 'Ram', 'Interna','Externa','Front','Main Back', 'Back2', 'Back3','Back42','Rear Camera', \"Inch\", \"Display\", \"Capacity(mAh)\"]"
      ],
      "metadata": {
        "id": "L-SuiD76e4Dh"
      }
    },
    {
      "cell_type": "code",
      "source": [
        "newdata=data[['Name','stars', 'Color', 'Price','Rating', 'Reviews', 'Ram', 'Interna','Externa','Front','Main Back','Back2', 'Back3','Back4','Rear', \"Inch\", \"Display\", \"Capacity(mAh)\"]]\n",
        "\n",
        "newdata.head()"
      ],
      "metadata": {
        "colab": {
          "base_uri": "https://localhost:8080/",
          "height": 423
        },
        "id": "ICdY4Mbfe5uB",
        "outputId": "3c8ebf56-8661-4a91-c279-7c242dede375"
      },
      "execution_count": null,
      "outputs": [
        {
          "output_type": "execute_result",
          "data": {
            "text/plain": [
              "                  Name  stars           Color  Price  Rating Reviews   Ram  \\\n",
              "0  Samsung Galaxy F13     4.4  Waterfall Blue   9699  120759    7003  4 GB   \n",
              "1  Samsung Galaxy F13     4.4  Sunrise Copper   9699  120759    7003  4 GB   \n",
              "2         Itel It2163S    4.1       No Define    989     702      67  4 MB   \n",
              "3  Samsung Galaxy F13     4.4  Nightsky Green  10699  120759    7003  4 GB   \n",
              "4  Samsung Galaxy F13     4.4  Waterfall Blue  10699  120759    7003  4 GB   \n",
              "\n",
              "  Interna Externa Front Main Back  Back2  Back3 Back4 Rear Inch  \\\n",
              "0   64 GB    1 TB   8MP     50MP    5MP    2MP      0   No  6.6   \n",
              "1   64 GB    1 TB   8MP     50MP    5MP    2MP      0   No  6.6   \n",
              "2    4 MB   32 GB     0         0      0      0     0   No  1.8   \n",
              "3  128 GB    1 TB   8MP     50MP    5MP    2MP      0   No  6.6   \n",
              "4  128 GB    1 TB   8MP     50MP    5MP    2MP      0   No  6.6   \n",
              "\n",
              "          Display Capacity(mAh)  \n",
              "0        Full HD          6000   \n",
              "1        Full HD          6000   \n",
              "2   Quarter QVGA          1200   \n",
              "3        Full HD          6000   \n",
              "4        Full HD          6000   "
            ],
            "text/html": [
              "\n",
              "  <div id=\"df-a0e15456-6958-470e-a63e-86ef6e227abb\">\n",
              "    <div class=\"colab-df-container\">\n",
              "      <div>\n",
              "<style scoped>\n",
              "    .dataframe tbody tr th:only-of-type {\n",
              "        vertical-align: middle;\n",
              "    }\n",
              "\n",
              "    .dataframe tbody tr th {\n",
              "        vertical-align: top;\n",
              "    }\n",
              "\n",
              "    .dataframe thead th {\n",
              "        text-align: right;\n",
              "    }\n",
              "</style>\n",
              "<table border=\"1\" class=\"dataframe\">\n",
              "  <thead>\n",
              "    <tr style=\"text-align: right;\">\n",
              "      <th></th>\n",
              "      <th>Name</th>\n",
              "      <th>stars</th>\n",
              "      <th>Color</th>\n",
              "      <th>Price</th>\n",
              "      <th>Rating</th>\n",
              "      <th>Reviews</th>\n",
              "      <th>Ram</th>\n",
              "      <th>Interna</th>\n",
              "      <th>Externa</th>\n",
              "      <th>Front</th>\n",
              "      <th>Main Back</th>\n",
              "      <th>Back2</th>\n",
              "      <th>Back3</th>\n",
              "      <th>Back4</th>\n",
              "      <th>Rear</th>\n",
              "      <th>Inch</th>\n",
              "      <th>Display</th>\n",
              "      <th>Capacity(mAh)</th>\n",
              "    </tr>\n",
              "  </thead>\n",
              "  <tbody>\n",
              "    <tr>\n",
              "      <th>0</th>\n",
              "      <td>Samsung Galaxy F13</td>\n",
              "      <td>4.4</td>\n",
              "      <td>Waterfall Blue</td>\n",
              "      <td>9699</td>\n",
              "      <td>120759</td>\n",
              "      <td>7003</td>\n",
              "      <td>4 GB</td>\n",
              "      <td>64 GB</td>\n",
              "      <td>1 TB</td>\n",
              "      <td>8MP</td>\n",
              "      <td>50MP</td>\n",
              "      <td>5MP</td>\n",
              "      <td>2MP</td>\n",
              "      <td>0</td>\n",
              "      <td>No</td>\n",
              "      <td>6.6</td>\n",
              "      <td>Full HD</td>\n",
              "      <td>6000</td>\n",
              "    </tr>\n",
              "    <tr>\n",
              "      <th>1</th>\n",
              "      <td>Samsung Galaxy F13</td>\n",
              "      <td>4.4</td>\n",
              "      <td>Sunrise Copper</td>\n",
              "      <td>9699</td>\n",
              "      <td>120759</td>\n",
              "      <td>7003</td>\n",
              "      <td>4 GB</td>\n",
              "      <td>64 GB</td>\n",
              "      <td>1 TB</td>\n",
              "      <td>8MP</td>\n",
              "      <td>50MP</td>\n",
              "      <td>5MP</td>\n",
              "      <td>2MP</td>\n",
              "      <td>0</td>\n",
              "      <td>No</td>\n",
              "      <td>6.6</td>\n",
              "      <td>Full HD</td>\n",
              "      <td>6000</td>\n",
              "    </tr>\n",
              "    <tr>\n",
              "      <th>2</th>\n",
              "      <td>Itel It2163S</td>\n",
              "      <td>4.1</td>\n",
              "      <td>No Define</td>\n",
              "      <td>989</td>\n",
              "      <td>702</td>\n",
              "      <td>67</td>\n",
              "      <td>4 MB</td>\n",
              "      <td>4 MB</td>\n",
              "      <td>32 GB</td>\n",
              "      <td>0</td>\n",
              "      <td>0</td>\n",
              "      <td>0</td>\n",
              "      <td>0</td>\n",
              "      <td>0</td>\n",
              "      <td>No</td>\n",
              "      <td>1.8</td>\n",
              "      <td>Quarter QVGA</td>\n",
              "      <td>1200</td>\n",
              "    </tr>\n",
              "    <tr>\n",
              "      <th>3</th>\n",
              "      <td>Samsung Galaxy F13</td>\n",
              "      <td>4.4</td>\n",
              "      <td>Nightsky Green</td>\n",
              "      <td>10699</td>\n",
              "      <td>120759</td>\n",
              "      <td>7003</td>\n",
              "      <td>4 GB</td>\n",
              "      <td>128 GB</td>\n",
              "      <td>1 TB</td>\n",
              "      <td>8MP</td>\n",
              "      <td>50MP</td>\n",
              "      <td>5MP</td>\n",
              "      <td>2MP</td>\n",
              "      <td>0</td>\n",
              "      <td>No</td>\n",
              "      <td>6.6</td>\n",
              "      <td>Full HD</td>\n",
              "      <td>6000</td>\n",
              "    </tr>\n",
              "    <tr>\n",
              "      <th>4</th>\n",
              "      <td>Samsung Galaxy F13</td>\n",
              "      <td>4.4</td>\n",
              "      <td>Waterfall Blue</td>\n",
              "      <td>10699</td>\n",
              "      <td>120759</td>\n",
              "      <td>7003</td>\n",
              "      <td>4 GB</td>\n",
              "      <td>128 GB</td>\n",
              "      <td>1 TB</td>\n",
              "      <td>8MP</td>\n",
              "      <td>50MP</td>\n",
              "      <td>5MP</td>\n",
              "      <td>2MP</td>\n",
              "      <td>0</td>\n",
              "      <td>No</td>\n",
              "      <td>6.6</td>\n",
              "      <td>Full HD</td>\n",
              "      <td>6000</td>\n",
              "    </tr>\n",
              "  </tbody>\n",
              "</table>\n",
              "</div>\n",
              "      <button class=\"colab-df-convert\" onclick=\"convertToInteractive('df-a0e15456-6958-470e-a63e-86ef6e227abb')\"\n",
              "              title=\"Convert this dataframe to an interactive table.\"\n",
              "              style=\"display:none;\">\n",
              "        \n",
              "  <svg xmlns=\"http://www.w3.org/2000/svg\" height=\"24px\"viewBox=\"0 0 24 24\"\n",
              "       width=\"24px\">\n",
              "    <path d=\"M0 0h24v24H0V0z\" fill=\"none\"/>\n",
              "    <path d=\"M18.56 5.44l.94 2.06.94-2.06 2.06-.94-2.06-.94-.94-2.06-.94 2.06-2.06.94zm-11 1L8.5 8.5l.94-2.06 2.06-.94-2.06-.94L8.5 2.5l-.94 2.06-2.06.94zm10 10l.94 2.06.94-2.06 2.06-.94-2.06-.94-.94-2.06-.94 2.06-2.06.94z\"/><path d=\"M17.41 7.96l-1.37-1.37c-.4-.4-.92-.59-1.43-.59-.52 0-1.04.2-1.43.59L10.3 9.45l-7.72 7.72c-.78.78-.78 2.05 0 2.83L4 21.41c.39.39.9.59 1.41.59.51 0 1.02-.2 1.41-.59l7.78-7.78 2.81-2.81c.8-.78.8-2.07 0-2.86zM5.41 20L4 18.59l7.72-7.72 1.47 1.35L5.41 20z\"/>\n",
              "  </svg>\n",
              "      </button>\n",
              "      \n",
              "  <style>\n",
              "    .colab-df-container {\n",
              "      display:flex;\n",
              "      flex-wrap:wrap;\n",
              "      gap: 12px;\n",
              "    }\n",
              "\n",
              "    .colab-df-convert {\n",
              "      background-color: #E8F0FE;\n",
              "      border: none;\n",
              "      border-radius: 50%;\n",
              "      cursor: pointer;\n",
              "      display: none;\n",
              "      fill: #1967D2;\n",
              "      height: 32px;\n",
              "      padding: 0 0 0 0;\n",
              "      width: 32px;\n",
              "    }\n",
              "\n",
              "    .colab-df-convert:hover {\n",
              "      background-color: #E2EBFA;\n",
              "      box-shadow: 0px 1px 2px rgba(60, 64, 67, 0.3), 0px 1px 3px 1px rgba(60, 64, 67, 0.15);\n",
              "      fill: #174EA6;\n",
              "    }\n",
              "\n",
              "    [theme=dark] .colab-df-convert {\n",
              "      background-color: #3B4455;\n",
              "      fill: #D2E3FC;\n",
              "    }\n",
              "\n",
              "    [theme=dark] .colab-df-convert:hover {\n",
              "      background-color: #434B5C;\n",
              "      box-shadow: 0px 1px 3px 1px rgba(0, 0, 0, 0.15);\n",
              "      filter: drop-shadow(0px 1px 2px rgba(0, 0, 0, 0.3));\n",
              "      fill: #FFFFFF;\n",
              "    }\n",
              "  </style>\n",
              "\n",
              "      <script>\n",
              "        const buttonEl =\n",
              "          document.querySelector('#df-a0e15456-6958-470e-a63e-86ef6e227abb button.colab-df-convert');\n",
              "        buttonEl.style.display =\n",
              "          google.colab.kernel.accessAllowed ? 'block' : 'none';\n",
              "\n",
              "        async function convertToInteractive(key) {\n",
              "          const element = document.querySelector('#df-a0e15456-6958-470e-a63e-86ef6e227abb');\n",
              "          const dataTable =\n",
              "            await google.colab.kernel.invokeFunction('convertToInteractive',\n",
              "                                                     [key], {});\n",
              "          if (!dataTable) return;\n",
              "\n",
              "          const docLinkHtml = 'Like what you see? Visit the ' +\n",
              "            '<a target=\"_blank\" href=https://colab.research.google.com/notebooks/data_table.ipynb>data table notebook</a>'\n",
              "            + ' to learn more about interactive tables.';\n",
              "          element.innerHTML = '';\n",
              "          dataTable['output_type'] = 'display_data';\n",
              "          await google.colab.output.renderOutput(dataTable, element);\n",
              "          const docLink = document.createElement('div');\n",
              "          docLink.innerHTML = docLinkHtml;\n",
              "          element.appendChild(docLink);\n",
              "        }\n",
              "      </script>\n",
              "    </div>\n",
              "  </div>\n",
              "  "
            ]
          },
          "metadata": {},
          "execution_count": 88
        }
      ]
    },
    {
      "cell_type": "code",
      "source": [
        "newdata.shape"
      ],
      "metadata": {
        "colab": {
          "base_uri": "https://localhost:8080/"
        },
        "id": "0tT5HIwoe8ap",
        "outputId": "af5ef2d2-25d9-4d6c-df92-a2df05ea9873"
      },
      "execution_count": null,
      "outputs": [
        {
          "output_type": "execute_result",
          "data": {
            "text/plain": [
              "(1148, 18)"
            ]
          },
          "metadata": {},
          "execution_count": 89
        }
      ]
    },
    {
      "cell_type": "markdown",
      "source": [
        "## 3.3 Handle Missing Values"
      ],
      "metadata": {
        "id": "ymxhOm6he-fU"
      }
    },
    {
      "cell_type": "code",
      "source": [
        "newdata.isnull().sum()"
      ],
      "metadata": {
        "colab": {
          "base_uri": "https://localhost:8080/"
        },
        "id": "Bvytt7FffAi9",
        "outputId": "ce9e1027-abcb-4214-f09c-5bc4d35d7a9d"
      },
      "execution_count": null,
      "outputs": [
        {
          "output_type": "execute_result",
          "data": {
            "text/plain": [
              "Name             205\n",
              "stars            226\n",
              "Color              0\n",
              "Price              5\n",
              "Rating           226\n",
              "Reviews          226\n",
              "Ram              205\n",
              "Interna          205\n",
              "Externa          205\n",
              "Front            205\n",
              "Main Back        205\n",
              "Back2            205\n",
              "Back3            205\n",
              "Back4            205\n",
              "Rear               0\n",
              "Inch             205\n",
              "Display          206\n",
              "Capacity(mAh)    205\n",
              "dtype: int64"
            ]
          },
          "metadata": {},
          "execution_count": 90
        }
      ]
    },
    {
      "cell_type": "code",
      "source": [
        "newdata.dropna(inplace=True)"
      ],
      "metadata": {
        "colab": {
          "base_uri": "https://localhost:8080/"
        },
        "id": "xKy3i4ASfDgc",
        "outputId": "0710abf4-7bf4-45b5-ad5a-83afa908fb34"
      },
      "execution_count": null,
      "outputs": [
        {
          "output_type": "stream",
          "name": "stderr",
          "text": [
            "<ipython-input-91-5293ff12282c>:1: SettingWithCopyWarning: \n",
            "A value is trying to be set on a copy of a slice from a DataFrame\n",
            "\n",
            "See the caveats in the documentation: https://pandas.pydata.org/pandas-docs/stable/user_guide/indexing.html#returning-a-view-versus-a-copy\n",
            "  newdata.dropna(inplace=True)\n"
          ]
        }
      ]
    },
    {
      "cell_type": "code",
      "source": [
        "newdata.isnull().sum()"
      ],
      "metadata": {
        "colab": {
          "base_uri": "https://localhost:8080/"
        },
        "id": "agn8yVR0fF2V",
        "outputId": "07be3807-0564-4013-f76e-ae0488d63faa"
      },
      "execution_count": null,
      "outputs": [
        {
          "output_type": "execute_result",
          "data": {
            "text/plain": [
              "Name             0\n",
              "stars            0\n",
              "Color            0\n",
              "Price            0\n",
              "Rating           0\n",
              "Reviews          0\n",
              "Ram              0\n",
              "Interna          0\n",
              "Externa          0\n",
              "Front            0\n",
              "Main Back        0\n",
              "Back2            0\n",
              "Back3            0\n",
              "Back4            0\n",
              "Rear             0\n",
              "Inch             0\n",
              "Display          0\n",
              "Capacity(mAh)    0\n",
              "dtype: int64"
            ]
          },
          "metadata": {},
          "execution_count": 92
        }
      ]
    },
    {
      "cell_type": "code",
      "source": [
        "newdata.shape"
      ],
      "metadata": {
        "colab": {
          "base_uri": "https://localhost:8080/"
        },
        "id": "RGTR_K-LfH86",
        "outputId": "2610ab7b-036b-4fd9-c6ba-c7536bd3f26b"
      },
      "execution_count": null,
      "outputs": [
        {
          "output_type": "execute_result",
          "data": {
            "text/plain": [
              "(921, 18)"
            ]
          },
          "metadata": {},
          "execution_count": 93
        }
      ]
    },
    {
      "cell_type": "code",
      "source": [
        "newdata.info()"
      ],
      "metadata": {
        "colab": {
          "base_uri": "https://localhost:8080/"
        },
        "id": "l_4AHYrMfJvf",
        "outputId": "f514a34e-b4d7-427d-f8d8-e5cb0077b05d"
      },
      "execution_count": null,
      "outputs": [
        {
          "output_type": "stream",
          "name": "stdout",
          "text": [
            "<class 'pandas.core.frame.DataFrame'>\n",
            "Int64Index: 921 entries, 0 to 1141\n",
            "Data columns (total 18 columns):\n",
            " #   Column         Non-Null Count  Dtype  \n",
            "---  ------         --------------  -----  \n",
            " 0   Name           921 non-null    object \n",
            " 1   stars          921 non-null    float64\n",
            " 2   Color          921 non-null    object \n",
            " 3   Price          921 non-null    object \n",
            " 4   Rating         921 non-null    object \n",
            " 5   Reviews        921 non-null    object \n",
            " 6   Ram            921 non-null    object \n",
            " 7   Interna        921 non-null    object \n",
            " 8   Externa        921 non-null    object \n",
            " 9   Front          921 non-null    object \n",
            " 10  Main Back      921 non-null    object \n",
            " 11  Back2          921 non-null    object \n",
            " 12  Back3          921 non-null    object \n",
            " 13  Back4          921 non-null    object \n",
            " 14  Rear           921 non-null    object \n",
            " 15  Inch           921 non-null    object \n",
            " 16  Display        921 non-null    object \n",
            " 17  Capacity(mAh)  921 non-null    object \n",
            "dtypes: float64(1), object(17)\n",
            "memory usage: 136.7+ KB\n"
          ]
        }
      ]
    },
    {
      "cell_type": "markdown",
      "source": [
        "## 3.4 Becoming categorical data into numerical data"
      ],
      "metadata": {
        "id": "04gKLrV3fMjY"
      }
    },
    {
      "cell_type": "code",
      "source": [
        "newdata['Price'] = newdata['Price'].astype(float)\n",
        "newdata['Rating'] = newdata['Rating'].astype(float)\n",
        "newdata['Reviews'] = newdata['Reviews'].astype(float)\n",
        "newdata[\"Inch\"]= newdata[\"Inch\"].astype(float)"
      ],
      "metadata": {
        "colab": {
          "base_uri": "https://localhost:8080/"
        },
        "id": "gW-0Wg3_fPDU",
        "outputId": "7b70482c-4257-47fe-a7be-234e601e3247"
      },
      "execution_count": null,
      "outputs": [
        {
          "output_type": "stream",
          "name": "stderr",
          "text": [
            "<ipython-input-95-4fdb98a5f47b>:1: SettingWithCopyWarning: \n",
            "A value is trying to be set on a copy of a slice from a DataFrame.\n",
            "Try using .loc[row_indexer,col_indexer] = value instead\n",
            "\n",
            "See the caveats in the documentation: https://pandas.pydata.org/pandas-docs/stable/user_guide/indexing.html#returning-a-view-versus-a-copy\n",
            "  newdata['Price'] = newdata['Price'].astype(float)\n",
            "<ipython-input-95-4fdb98a5f47b>:2: SettingWithCopyWarning: \n",
            "A value is trying to be set on a copy of a slice from a DataFrame.\n",
            "Try using .loc[row_indexer,col_indexer] = value instead\n",
            "\n",
            "See the caveats in the documentation: https://pandas.pydata.org/pandas-docs/stable/user_guide/indexing.html#returning-a-view-versus-a-copy\n",
            "  newdata['Rating'] = newdata['Rating'].astype(float)\n",
            "<ipython-input-95-4fdb98a5f47b>:3: SettingWithCopyWarning: \n",
            "A value is trying to be set on a copy of a slice from a DataFrame.\n",
            "Try using .loc[row_indexer,col_indexer] = value instead\n",
            "\n",
            "See the caveats in the documentation: https://pandas.pydata.org/pandas-docs/stable/user_guide/indexing.html#returning-a-view-versus-a-copy\n",
            "  newdata['Reviews'] = newdata['Reviews'].astype(float)\n",
            "<ipython-input-95-4fdb98a5f47b>:4: SettingWithCopyWarning: \n",
            "A value is trying to be set on a copy of a slice from a DataFrame.\n",
            "Try using .loc[row_indexer,col_indexer] = value instead\n",
            "\n",
            "See the caveats in the documentation: https://pandas.pydata.org/pandas-docs/stable/user_guide/indexing.html#returning-a-view-versus-a-copy\n",
            "  newdata[\"Inch\"]= newdata[\"Inch\"].astype(float)\n"
          ]
        }
      ]
    },
    {
      "cell_type": "markdown",
      "source": [
        "# 4. Data Visualization"
      ],
      "metadata": {
        "id": "x65jOENjiQBU"
      }
    },
    {
      "cell_type": "markdown",
      "source": [
        "## BarPlot"
      ],
      "metadata": {
        "id": "CXlw4GB2iSWK"
      }
    },
    {
      "cell_type": "markdown",
      "source": [
        "### Top 10 Celular With Most Rating"
      ],
      "metadata": {
        "id": "k_HZe7ubiWaS"
      }
    },
    {
      "cell_type": "code",
      "source": [
        "import seaborn as sns\n",
        "import matplotlib.pyplot as plt\n",
        "\n",
        "\n",
        "df10HR = newdata.sort_values(by = \"Rating\", ascending = False).head(10)\n",
        "\n",
        "plt.figure(figsize= (15,10))\n",
        "sns.barplot( x= \"Name\", y= \"Rating\", data= df10HR)\n",
        "plt.title(\"Top 10 Celular Most Rating\")\n",
        "plt.xticks(rotation = 90)\n",
        "plt.xlabel(\"Brands\")\n",
        "plt.ylabel(\"Rating\")"
      ],
      "metadata": {
        "colab": {
          "base_uri": "https://localhost:8080/",
          "height": 780
        },
        "id": "BN9MArp_iYGh",
        "outputId": "8d6d9d60-6ac4-4acb-942f-b9e81815b0ef"
      },
      "execution_count": null,
      "outputs": [
        {
          "output_type": "execute_result",
          "data": {
            "text/plain": [
              "Text(0, 0.5, 'Rating')"
            ]
          },
          "metadata": {},
          "execution_count": 96
        },
        {
          "output_type": "display_data",
          "data": {
            "text/plain": [
              "<Figure size 1080x720 with 1 Axes>"
            ],
            "image/png": "[encoded data removed]"
          },
          "metadata": {
            "needs_background": "light"
          }
        }
      ]
    },
    {
      "cell_type": "markdown",
      "source": [
        "### Top 10 Most Reviews"
      ],
      "metadata": {
        "id": "69d5B6fKidDJ"
      }
    },
    {
      "cell_type": "code",
      "source": [
        "df10MR= newdata.sort_values(by=\"Reviews\", ascending= False).head(10)\n",
        "plt.figure(figsize= (15,10))\n",
        "sns.barplot( x= \"Name\", y= \"Reviews\", data= df10MR)\n",
        "plt.title(\"Top 10 Celular Most Review\")\n",
        "plt.xlabel(\"Brands\")\n",
        "plt.ylabel(\"Review\")\n",
        "plt.xticks(rotation = 90)"
      ],
      "metadata": {
        "colab": {
          "base_uri": "https://localhost:8080/",
          "height": 926
        },
        "id": "m_SHbGloice6",
        "outputId": "579fc3c0-6847-4386-fc3a-fa6e107a0582"
      },
      "execution_count": null,
      "outputs": [
        {
          "output_type": "execute_result",
          "data": {
            "text/plain": [
              "(array([0, 1, 2, 3, 4, 5, 6, 7]),\n",
              " [Text(0, 0, 'Poco M2 Pro '),\n",
              "  Text(1, 0, 'Poco X3 '),\n",
              "  Text(2, 0, 'Samsung Galaxy S23 Plus 5G '),\n",
              "  Text(3, 0, 'Samsung Guru Music 2'),\n",
              "  Text(4, 0, 'Infinix Smart 6 '),\n",
              "  Text(5, 0, 'Nokia Ta-1459'),\n",
              "  Text(6, 0, 'Realme C20 '),\n",
              "  Text(7, 0, 'Redmi 9I Sport ')])"
            ]
          },
          "metadata": {},
          "execution_count": 97
        },
        {
          "output_type": "display_data",
          "data": {
            "text/plain": [
              "<Figure size 1080x720 with 1 Axes>"
            ],
            "image/png": "[encoded data removed]"
          },
          "metadata": {
            "needs_background": "light"
          }
        }
      ]
    },
    {
      "cell_type": "markdown",
      "source": [
        "### Top 10 Most Expensive"
      ],
      "metadata": {
        "id": "Oq-1bwDHileP"
      }
    },
    {
      "cell_type": "code",
      "source": [
        "df10ME= newdata.sort_values(by=\"Price\", ascending= False).head(10)\n",
        "plt.figure(figsize= (15,10))\n",
        "sns.barplot( x= \"Name\", y= \"Reviews\", data= df10MR)\n",
        "plt.title(\"Top 10  Most Expensive\")\n",
        "plt.ylabel(\"Price in Rupee ₹\")\n",
        "plt.xlabel(\"Brands\")\n",
        "plt.xticks(rotation = 90)"
      ],
      "metadata": {
        "colab": {
          "base_uri": "https://localhost:8080/",
          "height": 926
        },
        "id": "KPlb4Yqdij5c",
        "outputId": "296321be-a816-4c5a-8c9c-bbdd3c371a79"
      },
      "execution_count": null,
      "outputs": [
        {
          "output_type": "execute_result",
          "data": {
            "text/plain": [
              "(array([0, 1, 2, 3, 4, 5, 6, 7]),\n",
              " [Text(0, 0, 'Poco M2 Pro '),\n",
              "  Text(1, 0, 'Poco X3 '),\n",
              "  Text(2, 0, 'Samsung Galaxy S23 Plus 5G '),\n",
              "  Text(3, 0, 'Samsung Guru Music 2'),\n",
              "  Text(4, 0, 'Infinix Smart 6 '),\n",
              "  Text(5, 0, 'Nokia Ta-1459'),\n",
              "  Text(6, 0, 'Realme C20 '),\n",
              "  Text(7, 0, 'Redmi 9I Sport ')])"
            ]
          },
          "metadata": {},
          "execution_count": 98
        },
        {
          "output_type": "display_data",
          "data": {
            "text/plain": [
              "<Figure size 1080x720 with 1 Axes>"
            ],
            "image/png": "[encoded data removed]"
          },
          "metadata": {
            "needs_background": "light"
          }
        }
      ]
    },
    {
      "cell_type": "markdown",
      "source": [
        "## CountPlot"
      ],
      "metadata": {
        "id": "Ab6a3Pnsiqqj"
      }
    },
    {
      "cell_type": "markdown",
      "source": [
        "### Production of Cellphone according to the Size of Screen in Inch"
      ],
      "metadata": {
        "id": "_CNZyOMJitYD"
      }
    },
    {
      "cell_type": "code",
      "source": [
        "df10LS= data.sort_values(by= \"Inch\", ascending= False )\n",
        "plt.figure(figsize=(10,20))\n",
        "sns.countplot(x=\"Inch\", data=newdata)\n",
        "plt.title(\"Production of Cellphone according to the Size of Screen in Inch\")\n",
        "plt.xlabel(\"Size of the Screen in Inch\")\n",
        "plt.xticks(rotation=90)"
      ],
      "metadata": {
        "colab": {
          "base_uri": "https://localhost:8080/",
          "height": 1000
        },
        "id": "mBvlYWcXiu5y",
        "outputId": "74dba383-1196-4afc-dca7-bd1046ebeb7f"
      },
      "execution_count": null,
      "outputs": [
        {
          "output_type": "execute_result",
          "data": {
            "text/plain": [
              "(array([ 0,  1,  2,  3,  4,  5,  6,  7,  8,  9, 10, 11, 12, 13, 14, 15, 16,\n",
              "        17, 18, 19, 20, 21, 22, 23, 24, 25, 26, 27, 28, 29, 30, 31, 32, 33,\n",
              "        34, 35, 36, 37, 38, 39, 40, 41, 42, 43, 44, 45, 46, 47, 48]),\n",
              " [Text(0, 0, '0.66'),\n",
              "  Text(1, 0, '1.4'),\n",
              "  Text(2, 0, '1.44'),\n",
              "  Text(3, 0, '1.5'),\n",
              "  Text(4, 0, '1.77'),\n",
              "  Text(5, 0, '1.8'),\n",
              "  Text(6, 0, '2.0'),\n",
              "  Text(7, 0, '2.4'),\n",
              "  Text(8, 0, '2.6'),\n",
              "  Text(9, 0, '2.8'),\n",
              "  Text(10, 0, '4.0'),\n",
              "  Text(11, 0, '5.0'),\n",
              "  Text(12, 0, '5.4'),\n",
              "  Text(13, 0, '5.45'),\n",
              "  Text(14, 0, '6.08'),\n",
              "  Text(15, 0, '6.088'),\n",
              "  Text(16, 0, '6.1'),\n",
              "  Text(17, 0, '6.14'),\n",
              "  Text(18, 0, '6.22'),\n",
              "  Text(19, 0, '6.26'),\n",
              "  Text(20, 0, '6.3'),\n",
              "  Text(21, 0, '6.38'),\n",
              "  Text(22, 0, '6.4'),\n",
              "  Text(23, 0, '6.43'),\n",
              "  Text(24, 0, '6.44'),\n",
              "  Text(25, 0, '6.47'),\n",
              "  Text(26, 0, '6.5'),\n",
              "  Text(27, 0, '6.51'),\n",
              "  Text(28, 0, '6.515'),\n",
              "  Text(29, 0, '6.517'),\n",
              "  Text(30, 0, '6.52'),\n",
              "  Text(31, 0, '6.53'),\n",
              "  Text(32, 0, '6.55'),\n",
              "  Text(33, 0, '6.56'),\n",
              "  Text(34, 0, '6.57'),\n",
              "  Text(35, 0, '6.58'),\n",
              "  Text(36, 0, '6.59'),\n",
              "  Text(37, 0, '6.6'),\n",
              "  Text(38, 0, '6.62'),\n",
              "  Text(39, 0, '6.67'),\n",
              "  Text(40, 0, '6.68'),\n",
              "  Text(41, 0, '6.7'),\n",
              "  Text(42, 0, '6.72'),\n",
              "  Text(43, 0, '6.78'),\n",
              "  Text(44, 0, '6.8'),\n",
              "  Text(45, 0, '6.82'),\n",
              "  Text(46, 0, '6.9'),\n",
              "  Text(47, 0, '6.95'),\n",
              "  Text(48, 0, '7.0')])"
            ]
          },
          "metadata": {},
          "execution_count": 99
        },
        {
          "output_type": "display_data",
          "data": {
            "text/plain": [
              "<Figure size 720x1440 with 1 Axes>"
            ],
            "image/png": "[encoded data removed]"
          },
          "metadata": {
            "needs_background": "light"
          }
        }
      ]
    },
    {
      "cell_type": "markdown",
      "source": [
        "### Production of Cellphone  According its Main Back Camara"
      ],
      "metadata": {
        "id": "qq_UDSvbiySz"
      }
    },
    {
      "cell_type": "code",
      "source": [
        "sns.countplot(x=\"Main Back\", data=newdata)\n",
        "plt.title(\"Production of Cellphone  According its Main Back Camara\")\n",
        "plt.xlabel(\"Main Back Camara\")\n",
        "plt.xticks(rotation= 90)"
      ],
      "metadata": {
        "id": "3N-sc9Y7iz6J"
      },
      "execution_count": null,
      "outputs": []
    },
    {
      "cell_type": "markdown",
      "source": [
        "### Production of Cellphone According to its Ram Memory"
      ],
      "metadata": {
        "id": "NoZfkmcFi2ra"
      }
    },
    {
      "cell_type": "code",
      "source": [
        "sns.countplot(x= \"Ram\", data=newdata)\n",
        "plt.title(\"Production of Cellphone According to its Ram Memory\")\n",
        "plt.xlabel(\"Ram Memory\")\n",
        "plt.xticks(rotation=90)"
      ],
      "metadata": {
        "colab": {
          "base_uri": "https://localhost:8080/",
          "height": 770
        },
        "id": "8zZ2bW-vi4Hy",
        "outputId": "13fb0b16-269e-43ad-cedc-39e6b5ab911c"
      },
      "execution_count": null,
      "outputs": [
        {
          "output_type": "execute_result",
          "data": {
            "text/plain": [
              "(array([ 0,  1,  2,  3,  4,  5,  6,  7,  8,  9, 10, 11, 12, 13, 14, 15, 16,\n",
              "        17, 18, 19, 20]),\n",
              " [Text(0, 0, '4 GB'),\n",
              "  Text(1, 0, '4 MB'),\n",
              "  Text(2, 0, '64 MB'),\n",
              "  Text(3, 0, '8 GB'),\n",
              "  Text(4, 0, '6 GB'),\n",
              "  Text(5, 0, '0'),\n",
              "  Text(6, 0, '2 GB'),\n",
              "  Text(7, 0, '8 MB'),\n",
              "  Text(8, 0, '32 MB'),\n",
              "  Text(9, 0, '3 GB'),\n",
              "  Text(10, 0, '12 GB'),\n",
              "  Text(11, 0, '56 MB'),\n",
              "  Text(12, 0, '24 MB'),\n",
              "  Text(13, 0, '153 MB'),\n",
              "  Text(14, 0, '31 MB'),\n",
              "  Text(15, 0, '48 MB'),\n",
              "  Text(16, 0, '0.046875 GB'),\n",
              "  Text(17, 0, '128 MB'),\n",
              "  Text(18, 0, '1 GB'),\n",
              "  Text(19, 0, '52 MB'),\n",
              "  Text(20, 0, '0.53')])"
            ]
          },
          "metadata": {},
          "execution_count": 100
        },
        {
          "output_type": "display_data",
          "data": {
            "text/plain": [
              "<Figure size 432x288 with 1 Axes>"
            ],
            "image/png": "[encoded data removed]"
          },
          "metadata": {
            "needs_background": "light"
          }
        }
      ]
    },
    {
      "cell_type": "markdown",
      "source": [
        "### Production of Cellphone According to its Internal Memory"
      ],
      "metadata": {
        "id": "MYZtvsODi7b6"
      }
    },
    {
      "cell_type": "code",
      "source": [
        "sns.countplot(x= \"Interna\", data=newdata)\n",
        "plt.title(\"Production of Cellphone According to its Internal Memory\")\n",
        "plt.xlabel(\"Internal Memory\")\n",
        "plt.xticks(rotation=90)"
      ],
      "metadata": {
        "colab": {
          "base_uri": "https://localhost:8080/",
          "height": 789
        },
        "id": "XD6qeqK3i9T5",
        "outputId": "eaa79edd-6725-4a3b-d9e5-b2172c426b57"
      },
      "execution_count": null,
      "outputs": [
        {
          "output_type": "execute_result",
          "data": {
            "text/plain": [
              "(array([ 0,  1,  2,  3,  4,  5,  6,  7,  8,  9, 10, 11, 12, 13, 14, 15, 16,\n",
              "        17, 18, 19, 20, 21, 22]),\n",
              " [Text(0, 0, '64 GB'),\n",
              "  Text(1, 0, '4 MB'),\n",
              "  Text(2, 0, '128 GB'),\n",
              "  Text(3, 0, '64 MB'),\n",
              "  Text(4, 0, '32 GB'),\n",
              "  Text(5, 0, '8 MB'),\n",
              "  Text(6, 0, '32 MB'),\n",
              "  Text(7, 0, 'NA'),\n",
              "  Text(8, 0, '256 GB'),\n",
              "  Text(9, 0, '0'),\n",
              "  Text(10, 0, '3 MB'),\n",
              "  Text(11, 0, '128 MB'),\n",
              "  Text(12, 0, '24 MB'),\n",
              "  Text(13, 0, '56 MB'),\n",
              "  Text(14, 0, '153 MB'),\n",
              "  Text(15, 0, '16 MB'),\n",
              "  Text(16, 0, '32 KB'),\n",
              "  Text(17, 0, '36 MB'),\n",
              "  Text(18, 0, '0.125 GB'),\n",
              "  Text(19, 0, '16 GB'),\n",
              "  Text(20, 0, '8 GB'),\n",
              "  Text(21, 0, '2000'),\n",
              "  Text(22, 0, 'NA KB')])"
            ]
          },
          "metadata": {},
          "execution_count": 101
        },
        {
          "output_type": "display_data",
          "data": {
            "text/plain": [
              "<Figure size 432x288 with 1 Axes>"
            ],
            "image/png": "[encoded data removed]"
          },
          "metadata": {
            "needs_background": "light"
          }
        }
      ]
    },
    {
      "cell_type": "markdown",
      "source": [
        "# 5.  Results and conclusions"
      ],
      "metadata": {
        "id": "_0hIWnQZjCHI"
      }
    },
    {
      "cell_type": "markdown",
      "source": [
        "We have cleaned a data set, and now we can see that the data is more legible. This new format facilitates us to visualize many hidden variables. We can graphic several count plots, and bar plots in a very illustrative way. The next step will be  predicted the price using some regressor model of machine learning "
      ],
      "metadata": {
        "id": "MhzCS8ntjASD"
      }
    },
    {
      "cell_type": "markdown",
      "source": [
        "# 6.  References"
      ],
      "metadata": {
        "id": "SQjyM_zIjFGK"
      }
    },
    {
      "cell_type": "markdown",
      "source": [
        "https://www.kaggle.com/datasets/anas123siddiqui/mobiles"
      ],
      "metadata": {
        "id": "9UOW53gHjHLE"
      }
    }
  ],
  "metadata": {
    "colab": {
      "provenance": [],
      "collapsed_sections": [
        "M1iclMIvY-hq"
      ],
      "toc_visible": true
    },
    "kernelspec": {
      "display_name": "Python 3",
      "name": "python3"
    },
    "language_info": {
      "name": "python"
    }
  },
  "nbformat": 4,
  "nbformat_minor": 0
}